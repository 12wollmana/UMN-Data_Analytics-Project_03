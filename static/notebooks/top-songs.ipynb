{
 "cells": [
  {
   "cell_type": "code",
   "execution_count": null,
   "metadata": {},
   "outputs": [],
   "source": [
    "pip install seaborn"
   ]
  },
  {
   "cell_type": "code",
   "execution_count": null,
   "metadata": {},
   "outputs": [],
   "source": [
    "import pandas as pd\n",
    "import matplotlib.pyplot as plt\n",
    "import library as lib\n",
    "import seaborn as sns"
   ]
  },
  {
   "cell_type": "code",
   "execution_count": null,
   "metadata": {},
   "outputs": [],
   "source": [
    "df = lib.import_music_df_with_model()\n",
    "df.head()"
   ]
  },
  {
   "cell_type": "code",
   "execution_count": null,
   "metadata": {},
   "outputs": [],
   "source": [
    "attribute_df = df[['Placement','danceability', 'energy', 'key', 'loudness', 'speechiness', 'acousticness', 'liveness', 'valence', 'tempo', 'Cluster']]"
   ]
  },
  {
   "cell_type": "code",
   "execution_count": null,
   "metadata": {},
   "outputs": [],
   "source": [
    "top_20 = attribute_df[attribute_df['Placement'].between(1, 20)]\n",
    "top_40 = attribute_df[attribute_df['Placement'].between(21, 40)]\n",
    "top_60 = attribute_df[attribute_df['Placement'].between(41, 60)]\n",
    "top_80 = attribute_df[attribute_df['Placement'].between(61, 80)]\n",
    "top_100 = attribute_df[attribute_df['Placement'].between(81, 100)]"
   ]
  },
  {
   "cell_type": "code",
   "execution_count": null,
   "metadata": {},
   "outputs": [],
   "source": [
    "top_20.Cluster.groupby(top_20.Cluster).count().plot(kind='pie', title=(\"Clusters in Songs 1-20\"), autopct=\"%1.1f%%\", colors = ['magenta', 'pink', 'purple'], startangle=140)\n",
    "plt.axis('equal')\n",
    "# plt.savefig(\"Images/songs1-20.png\")\n",
    "sns.set_theme()\n",
    "plt.show()"
   ]
  },
  {
   "cell_type": "code",
   "execution_count": null,
   "metadata": {},
   "outputs": [],
   "source": [
    "top_40.Cluster.groupby(top_40.Cluster).count().plot(kind='pie', title=(\"Clusters in songs 21-40\"), autopct=\"%1.1f%%\", colors = ['magenta', 'pink', 'purple'], startangle=140)\n",
    "plt.axis('equal')\n",
    "# plt.savefig(\"Images/songs21-40.png\")\n",
    "sns.set_theme()\n",
    "plt.show()"
   ]
  },
  {
   "cell_type": "code",
   "execution_count": null,
   "metadata": {},
   "outputs": [],
   "source": [
    "top_60.Cluster.groupby(top_60.Cluster).count().plot(kind='pie', title=(\"Clusters in songs 41-60\"), autopct=\"%1.1f%%\", colors = ['magenta', 'pink', 'purple'], startangle=140)\n",
    "plt.axis('equal')\n",
    "# plt.savefig(\"Images/songs41-60.png\")\n",
    "sns.set_theme()\n",
    "plt.show()"
   ]
  },
  {
   "cell_type": "code",
   "execution_count": null,
   "metadata": {},
   "outputs": [],
   "source": [
    "top_80.Cluster.groupby(top_80.Cluster).count().plot(kind='pie', title=(\"Clusters in songs 61-80\"), autopct=\"%1.1f%%\", colors = ['magenta', 'pink', 'purple'], startangle=140)\n",
    "plt.axis('equal')\n",
    "# plt.savefig(\"Images/songs61-80.png\")\n",
    "sns.set_theme()\n",
    "plt.show()"
   ]
  },
  {
   "cell_type": "code",
   "execution_count": null,
   "metadata": {},
   "outputs": [],
   "source": [
    "top_100.Cluster.groupby(top_100.Cluster).count().plot(kind='pie', title=(\"Clusters in songs 81-100\"), autopct=\"%1.1f%%\", colors = ['magenta', 'pink', 'purple'], startangle=140)\n",
    "plt.axis('equal')\n",
    "# plt.savefig(\"Images/songs81-100.png\")\n",
    "sns.set_theme()\n",
    "plt.show()"
   ]
  },
  {
   "cell_type": "code",
   "execution_count": null,
   "metadata": {},
   "outputs": [],
   "source": [
    "columns = list(top_20.columns)\n",
    "columns.remove('Cluster')\n",
    "columns.remove('Placement')\n",
    "\n",
    "\n",
    "fig, ax = plt.subplots(1, len(columns), figsize = (20, 5))\n",
    "\n",
    "for idx, col in enumerate(columns, 0):\n",
    "    ax[idx].plot(top_20['Cluster'], top_20[col], 'o')\n",
    "    ax[idx].set_xlabel('Cluster')\n",
    "    ax[idx].set_title(col)\n",
    "\n",
    "# plt.savefig(\"Images/scattersongs1-20.png\")\n",
    "plt.show()"
   ]
  },
  {
   "cell_type": "code",
   "execution_count": null,
   "metadata": {},
   "outputs": [],
   "source": [
    "columns = list(top_40.columns)\n",
    "columns.remove('Cluster')\n",
    "columns.remove('Placement')\n",
    "\n",
    "\n",
    "fig, ax = plt.subplots(1, len(columns), figsize = (20, 5))\n",
    "\n",
    "for idx, col in enumerate(columns, 0):\n",
    "    ax[idx].plot(top_40['Cluster'], top_40[col], 'o')\n",
    "    ax[idx].set_xlabel('Cluster')\n",
    "    ax[idx].set_title(col)\n",
    "\n",
    "# plt.savefig(\"Images/scattersongs21-40.png\")\n",
    "plt.show()"
   ]
  },
  {
   "cell_type": "code",
   "execution_count": null,
   "metadata": {},
   "outputs": [],
   "source": [
    "columns = list(top_60.columns)\n",
    "columns.remove('Cluster')\n",
    "columns.remove('Placement')\n",
    "\n",
    "\n",
    "fig, ax = plt.subplots(1, len(columns), figsize = (20, 5))\n",
    "\n",
    "for idx, col in enumerate(columns, 0):\n",
    "    ax[idx].plot(top_60['Cluster'], top_60[col], 'o')\n",
    "    ax[idx].set_xlabel('Cluster')\n",
    "    ax[idx].set_title(col)\n",
    "    \n",
    "# plt.savefig(\"Images/scattersongs41-60.png\")\n",
    "plt.show()"
   ]
  },
  {
   "cell_type": "code",
   "execution_count": null,
   "metadata": {},
   "outputs": [],
   "source": [
    "columns = list(top_80.columns)\n",
    "columns.remove('Cluster')\n",
    "columns.remove('Placement')\n",
    "\n",
    "\n",
    "fig, ax = plt.subplots(1, len(columns), figsize = (20, 5))\n",
    "\n",
    "for idx, col in enumerate(columns, 0):\n",
    "    ax[idx].plot(top_80['Cluster'], top_80[col], 'o')\n",
    "    ax[idx].set_xlabel('Cluster')\n",
    "    ax[idx].set_title(col)\n",
    "\n",
    "# plt.savefig(\"Images/scattersongs61-80.png\")\n",
    "plt.show()"
   ]
  },
  {
   "cell_type": "code",
   "execution_count": null,
   "metadata": {},
   "outputs": [],
   "source": [
    "columns = list(top_100.columns)\n",
    "columns.remove('Cluster')\n",
    "columns.remove('Placement')\n",
    "\n",
    "\n",
    "fig, ax = plt.subplots(1, len(columns), figsize = (20, 5))\n",
    "\n",
    "for idx, col in enumerate(columns, 0):\n",
    "    ax[idx].plot(top_100['Cluster'], top_100[col], 'o')\n",
    "    ax[idx].set_xlabel('Cluster')\n",
    "    ax[idx].set_title(col)\n",
    "    \n",
    "# plt.savefig(\"Images/scattersongs81-100.png\")\n",
    "plt.show()"
   ]
  },
  {
   "cell_type": "code",
   "execution_count": null,
   "metadata": {},
   "outputs": [],
   "source": []
  }
 ],
 "metadata": {
  "kernelspec": {
   "display_name": "Python 3",
   "language": "python",
   "name": "python3"
  },
  "language_info": {
   "codemirror_mode": {
    "name": "ipython",
    "version": 3
   },
   "file_extension": ".py",
   "mimetype": "text/x-python",
   "name": "python",
   "nbconvert_exporter": "python",
   "pygments_lexer": "ipython3",
   "version": "3.6.12"
  }
 },
 "nbformat": 4,
 "nbformat_minor": 4
}
