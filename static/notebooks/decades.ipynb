{
 "cells": [
  {
   "cell_type": "markdown",
   "metadata": {},
   "source": [
    "# Decades\n",
    "This notebook is to plot our cluster data created in the Training-Model Notebook per decade."
   ]
  },
  {
   "cell_type": "markdown",
   "metadata": {},
   "source": [
    "## Setup\n",
    "First, the notebook will setup dependencies and import the data to be used."
   ]
  },
  {
   "cell_type": "code",
   "execution_count": 1,
   "metadata": {},
   "outputs": [],
   "source": [
    "import pandas as pd\n",
    "import matplotlib.pyplot as plt\n",
    "import library as lib"
   ]
  },
  {
   "cell_type": "code",
   "execution_count": 2,
   "metadata": {},
   "outputs": [],
   "source": [
    "image_filepath = \"../images/plots/decades\""
   ]
  },
  {
   "cell_type": "code",
   "execution_count": 4,
   "metadata": {
    "scrolled": true
   },
   "outputs": [
    {
     "data": {
      "text/html": [
       "<div>\n",
       "<style scoped>\n",
       "    .dataframe tbody tr th:only-of-type {\n",
       "        vertical-align: middle;\n",
       "    }\n",
       "\n",
       "    .dataframe tbody tr th {\n",
       "        vertical-align: top;\n",
       "    }\n",
       "\n",
       "    .dataframe thead th {\n",
       "        text-align: right;\n",
       "    }\n",
       "</style>\n",
       "<table border=\"1\" class=\"dataframe\">\n",
       "  <thead>\n",
       "    <tr style=\"text-align: right;\">\n",
       "      <th></th>\n",
       "      <th>Track</th>\n",
       "      <th>Artist</th>\n",
       "      <th>Placement</th>\n",
       "      <th>Year</th>\n",
       "      <th>Month</th>\n",
       "      <th>Day</th>\n",
       "      <th>danceability</th>\n",
       "      <th>energy</th>\n",
       "      <th>key</th>\n",
       "      <th>loudness</th>\n",
       "      <th>speechiness</th>\n",
       "      <th>acousticness</th>\n",
       "      <th>liveness</th>\n",
       "      <th>valence</th>\n",
       "      <th>tempo</th>\n",
       "      <th>Cluster</th>\n",
       "      <th>Decade</th>\n",
       "    </tr>\n",
       "  </thead>\n",
       "  <tbody>\n",
       "    <tr>\n",
       "      <th>0</th>\n",
       "      <td>El Paso</td>\n",
       "      <td>Marty Robbins</td>\n",
       "      <td>1</td>\n",
       "      <td>1960</td>\n",
       "      <td>1</td>\n",
       "      <td>4</td>\n",
       "      <td>0.654</td>\n",
       "      <td>0.452</td>\n",
       "      <td>2.0</td>\n",
       "      <td>-9.709</td>\n",
       "      <td>0.0300</td>\n",
       "      <td>0.835</td>\n",
       "      <td>0.160</td>\n",
       "      <td>0.691</td>\n",
       "      <td>106.662</td>\n",
       "      <td>1</td>\n",
       "      <td>1960s</td>\n",
       "    </tr>\n",
       "    <tr>\n",
       "      <th>4</th>\n",
       "      <td>Why</td>\n",
       "      <td>Frankie Avalon</td>\n",
       "      <td>2</td>\n",
       "      <td>1960</td>\n",
       "      <td>1</td>\n",
       "      <td>4</td>\n",
       "      <td>0.510</td>\n",
       "      <td>0.349</td>\n",
       "      <td>5.0</td>\n",
       "      <td>-8.677</td>\n",
       "      <td>0.0264</td>\n",
       "      <td>0.762</td>\n",
       "      <td>0.130</td>\n",
       "      <td>0.586</td>\n",
       "      <td>94.267</td>\n",
       "      <td>1</td>\n",
       "      <td>1960s</td>\n",
       "    </tr>\n",
       "    <tr>\n",
       "      <th>7</th>\n",
       "      <td>The Big Hurt</td>\n",
       "      <td>Miss Toni Fisher</td>\n",
       "      <td>3</td>\n",
       "      <td>1960</td>\n",
       "      <td>1</td>\n",
       "      <td>4</td>\n",
       "      <td>0.624</td>\n",
       "      <td>0.557</td>\n",
       "      <td>0.0</td>\n",
       "      <td>-8.309</td>\n",
       "      <td>0.0299</td>\n",
       "      <td>0.783</td>\n",
       "      <td>0.173</td>\n",
       "      <td>0.676</td>\n",
       "      <td>123.919</td>\n",
       "      <td>2</td>\n",
       "      <td>1960s</td>\n",
       "    </tr>\n",
       "    <tr>\n",
       "      <th>14</th>\n",
       "      <td>Heartaches By The Number</td>\n",
       "      <td>Guy Mitchell</td>\n",
       "      <td>6</td>\n",
       "      <td>1960</td>\n",
       "      <td>1</td>\n",
       "      <td>4</td>\n",
       "      <td>0.584</td>\n",
       "      <td>0.589</td>\n",
       "      <td>5.0</td>\n",
       "      <td>-11.203</td>\n",
       "      <td>0.0718</td>\n",
       "      <td>0.463</td>\n",
       "      <td>0.069</td>\n",
       "      <td>0.842</td>\n",
       "      <td>172.484</td>\n",
       "      <td>0</td>\n",
       "      <td>1960s</td>\n",
       "    </tr>\n",
       "    <tr>\n",
       "      <th>16</th>\n",
       "      <td>It's Time To Cry</td>\n",
       "      <td>Paul Anka</td>\n",
       "      <td>7</td>\n",
       "      <td>1960</td>\n",
       "      <td>1</td>\n",
       "      <td>4</td>\n",
       "      <td>0.311</td>\n",
       "      <td>0.314</td>\n",
       "      <td>3.0</td>\n",
       "      <td>-12.810</td>\n",
       "      <td>0.0325</td>\n",
       "      <td>0.731</td>\n",
       "      <td>0.335</td>\n",
       "      <td>0.565</td>\n",
       "      <td>109.983</td>\n",
       "      <td>2</td>\n",
       "      <td>1960s</td>\n",
       "    </tr>\n",
       "  </tbody>\n",
       "</table>\n",
       "</div>"
      ],
      "text/plain": [
       "                       Track            Artist  Placement  Year  Month  Day  \\\n",
       "0                    El Paso     Marty Robbins          1  1960      1    4   \n",
       "4                        Why    Frankie Avalon          2  1960      1    4   \n",
       "7               The Big Hurt  Miss Toni Fisher          3  1960      1    4   \n",
       "14  Heartaches By The Number      Guy Mitchell          6  1960      1    4   \n",
       "16          It's Time To Cry         Paul Anka          7  1960      1    4   \n",
       "\n",
       "    danceability  energy  key  loudness  speechiness  acousticness  liveness  \\\n",
       "0          0.654   0.452  2.0    -9.709       0.0300         0.835     0.160   \n",
       "4          0.510   0.349  5.0    -8.677       0.0264         0.762     0.130   \n",
       "7          0.624   0.557  0.0    -8.309       0.0299         0.783     0.173   \n",
       "14         0.584   0.589  5.0   -11.203       0.0718         0.463     0.069   \n",
       "16         0.311   0.314  3.0   -12.810       0.0325         0.731     0.335   \n",
       "\n",
       "    valence    tempo  Cluster Decade  \n",
       "0     0.691  106.662        1  1960s  \n",
       "4     0.586   94.267        1  1960s  \n",
       "7     0.676  123.919        2  1960s  \n",
       "14    0.842  172.484        0  1960s  \n",
       "16    0.565  109.983        2  1960s  "
      ]
     },
     "execution_count": 4,
     "metadata": {},
     "output_type": "execute_result"
    }
   ],
   "source": [
    "df = lib.import_music_df_with_model()\n",
    "df.head()"
   ]
  },
  {
   "cell_type": "code",
   "execution_count": null,
   "metadata": {},
   "outputs": [],
   "source": [
    "# Add Decade Column\n",
    "df['Decade'] = (10 * (df['Year'] // 10)).astype(str) + 's'\n",
    "df.head()"
   ]
  },
  {
   "cell_type": "markdown",
   "metadata": {},
   "source": [
    "## Plots\n",
    "After cleaning the data, now the notebook will conduct a series of plots on the data to see what trends there are. For this, the notebook will be looking at the average for each of the musical attributes."
   ]
  },
  {
   "cell_type": "code",
   "execution_count": null,
   "metadata": {},
   "outputs": [],
   "source": [
    "# Group by Decade and find the mean for values.\n",
    "decade_gb = df.groupby(by=[\"Decade\", \"Cluster\"])\n",
    "decade_mean_df = decade_gb.mean()\n",
    "decade_mean_df"
   ]
  },
  {
   "cell_type": "code",
   "execution_count": null,
   "metadata": {},
   "outputs": [],
   "source": [
    "# Define data columns\n",
    "columns = [\n",
    "    \"Placement\", \n",
    "    \"danceability\",\n",
    "    \"energy\",\n",
    "    \"key\",\n",
    "    \"loudness\",\n",
    "    \"speechiness\",\n",
    "    \"acousticness\",\n",
    "    \"liveness\",\n",
    "    \"valence\",\n",
    "    \"tempo\"\n",
    "]\n",
    "\n",
    "# Define Legend Labels\n",
    "legend_labels = [\"Cluster 0\", \"Cluster 1\", \"Cluster 2\"]"
   ]
  },
  {
   "cell_type": "markdown",
   "metadata": {},
   "source": [
    "### Bar Charts"
   ]
  },
  {
   "cell_type": "code",
   "execution_count": null,
   "metadata": {},
   "outputs": [],
   "source": [
    "# Create Bar Charts\n",
    "def decade_bar_chart(df, column, legend_labels = [\"Cluster 0\", \"Cluster 1\", \"Cluster 2\"]):\n",
    "    title = f\"Average {column.capitalize()} through the Decades\"\n",
    "    axis = df[[column]].unstack('Cluster').plot(kind=\"bar\", title=title)\n",
    "    axis.set_ylabel(column.capitalize())\n",
    "    axis.legend(legend_labels, loc='center right', bbox_to_anchor=(1.275, .5))\n",
    "    \n",
    "decade_bar_chart(decade_mean_df, \"danceability\", legend_labels)\n",
    "plt.show()"
   ]
  },
  {
   "cell_type": "code",
   "execution_count": null,
   "metadata": {},
   "outputs": [],
   "source": [
    "for column in columns:\n",
    "    decade_bar_chart(decade_mean_df, column, legend_labels)\n",
    "    plt.savefig(f\"{image_filepath}/bar/{column.lower()}.png\", bbox_inches='tight')\n",
    "    plt.show()"
   ]
  },
  {
   "cell_type": "markdown",
   "metadata": {},
   "source": [
    "### Line Charts"
   ]
  },
  {
   "cell_type": "code",
   "execution_count": null,
   "metadata": {},
   "outputs": [],
   "source": [
    "def decade_line_chart(df, column, legend_labels = [\"Cluster 0\", \"Cluster 1\", \"Cluster 2\"]):\n",
    "    title = f\"Average {column.capitalize()} through the Decades\"\n",
    "    data = df\n",
    "    if(column):\n",
    "        data = df[[column]]\n",
    "    axis = data.unstack('Cluster').plot(kind=\"line\", title=title)\n",
    "    axis.set_ylabel(column.capitalize())\n",
    "    axis.legend(legend_labels, loc='center right', bbox_to_anchor=(1.275, .5))\n",
    "    \n",
    "decade_line_chart(decade_mean_df, \"danceability\", legend_labels)\n",
    "plt.show()"
   ]
  },
  {
   "cell_type": "code",
   "execution_count": null,
   "metadata": {},
   "outputs": [],
   "source": [
    "for column in columns:\n",
    "    decade_line_chart(decade_mean_df, column, legend_labels)\n",
    "    plt.savefig(f\"{image_filepath}/line/{column.lower()}.png\", bbox_inches='tight')\n",
    "    plt.show()"
   ]
  },
  {
   "cell_type": "markdown",
   "metadata": {},
   "source": [
    "### Count of Hits\n",
    "Let's look at the number of hits per cluster per decade."
   ]
  },
  {
   "cell_type": "code",
   "execution_count": null,
   "metadata": {},
   "outputs": [],
   "source": [
    "hits_counts_df = decade_gb.count()\n",
    "hits_counts_df = hits_counts_df[\"Track\"]"
   ]
  },
  {
   "cell_type": "code",
   "execution_count": null,
   "metadata": {},
   "outputs": [],
   "source": [
    "axis = hits_counts_df.unstack('Cluster').plot(kind=\"line\", title = \"Number of Hits throughout the Decades\")\n",
    "axis.set_ylabel(\"Number of Hits\")\n",
    "axis.legend(legend_labels, loc='center right', bbox_to_anchor=(1.275, .5))\n",
    "plt.savefig(f\"{image_filepath}/line/number_of_hits.png\", bbox_inches='tight')\n",
    "plt.show()"
   ]
  },
  {
   "cell_type": "markdown",
   "metadata": {},
   "source": [
    "### Count of Number 1 Hits\n",
    "One additional aspect to look at is to see how many clusters hit the number 1 position within each decade."
   ]
  },
  {
   "cell_type": "code",
   "execution_count": null,
   "metadata": {},
   "outputs": [],
   "source": [
    "number_one_df = df[df[\"Placement\"] == 1]\n",
    "number_one_df.head()"
   ]
  },
  {
   "cell_type": "code",
   "execution_count": null,
   "metadata": {},
   "outputs": [],
   "source": [
    "number_one_gb = number_one_df.groupby([\"Decade\", \"Cluster\"])\n",
    "number_one_gb.head()"
   ]
  },
  {
   "cell_type": "code",
   "execution_count": null,
   "metadata": {},
   "outputs": [],
   "source": [
    "number_one_count_df = number_one_gb[\"Track\"].count()\n",
    "\n",
    "axis = number_one_count_df.unstack('Cluster').plot(kind=\"line\", title = \"Number of #1 Hits throughout the Decades\")\n",
    "axis.set_ylabel(\"Number of #1 Hits\")\n",
    "axis.legend(legend_labels, loc='center right', bbox_to_anchor=(1.275, .5))\n",
    "plt.savefig(f\"{image_filepath}/line/number_ones.png\", bbox_inches='tight')\n",
    "plt.show()"
   ]
  },
  {
   "cell_type": "code",
   "execution_count": null,
   "metadata": {},
   "outputs": [],
   "source": []
  }
 ],
 "metadata": {
  "kernelspec": {
   "display_name": "Python 3",
   "language": "python",
   "name": "python3"
  },
  "language_info": {
   "codemirror_mode": {
    "name": "ipython",
    "version": 3
   },
   "file_extension": ".py",
   "mimetype": "text/x-python",
   "name": "python",
   "nbconvert_exporter": "python",
   "pygments_lexer": "ipython3",
   "version": "3.7.4"
  }
 },
 "nbformat": 4,
 "nbformat_minor": 4
}
