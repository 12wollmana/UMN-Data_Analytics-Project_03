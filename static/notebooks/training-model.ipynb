{
 "cells": [
  {
   "cell_type": "code",
   "execution_count": 1,
   "metadata": {},
   "outputs": [],
   "source": [
    "import numpy as np\n",
    "import matplotlib.pyplot as plt\n",
    "import pandas as pd\n",
    "\n",
    "import library as lib\n",
    "from sklearn.cluster import KMeans\n",
    "import seaborn as sns"
   ]
  },
  {
   "cell_type": "code",
   "execution_count": 2,
   "metadata": {},
   "outputs": [],
   "source": [
    "# Set the seed for consistent results\n",
    "from numpy.random import seed\n",
    "seed(1)\n",
    "from tensorflow import random\n",
    "random.set_seed(1)"
   ]
  },
  {
   "cell_type": "code",
   "execution_count": 3,
   "metadata": {},
   "outputs": [],
   "source": [
    "image_filepath = \"../images/plots\""
   ]
  },
  {
   "cell_type": "code",
   "execution_count": 4,
   "metadata": {},
   "outputs": [
    {
     "data": {
      "text/html": [
       "<div>\n",
       "<style scoped>\n",
       "    .dataframe tbody tr th:only-of-type {\n",
       "        vertical-align: middle;\n",
       "    }\n",
       "\n",
       "    .dataframe tbody tr th {\n",
       "        vertical-align: top;\n",
       "    }\n",
       "\n",
       "    .dataframe thead th {\n",
       "        text-align: right;\n",
       "    }\n",
       "</style>\n",
       "<table border=\"1\" class=\"dataframe\">\n",
       "  <thead>\n",
       "    <tr style=\"text-align: right;\">\n",
       "      <th></th>\n",
       "      <th>Track</th>\n",
       "      <th>Artist</th>\n",
       "      <th>Placement</th>\n",
       "      <th>Year</th>\n",
       "      <th>Month</th>\n",
       "      <th>Day</th>\n",
       "      <th>danceability</th>\n",
       "      <th>energy</th>\n",
       "      <th>key</th>\n",
       "      <th>loudness</th>\n",
       "      <th>speechiness</th>\n",
       "      <th>acousticness</th>\n",
       "      <th>liveness</th>\n",
       "      <th>valence</th>\n",
       "      <th>tempo</th>\n",
       "    </tr>\n",
       "  </thead>\n",
       "  <tbody>\n",
       "    <tr>\n",
       "      <th>0</th>\n",
       "      <td>El Paso</td>\n",
       "      <td>Marty Robbins</td>\n",
       "      <td>1</td>\n",
       "      <td>1960</td>\n",
       "      <td>1</td>\n",
       "      <td>4</td>\n",
       "      <td>0.654</td>\n",
       "      <td>0.452</td>\n",
       "      <td>2.0</td>\n",
       "      <td>-9.709</td>\n",
       "      <td>0.0300</td>\n",
       "      <td>0.835</td>\n",
       "      <td>0.16</td>\n",
       "      <td>0.691</td>\n",
       "      <td>106.662</td>\n",
       "    </tr>\n",
       "    <tr>\n",
       "      <th>1</th>\n",
       "      <td>El Paso</td>\n",
       "      <td>Marty Robbins</td>\n",
       "      <td>3</td>\n",
       "      <td>1960</td>\n",
       "      <td>2</td>\n",
       "      <td>1</td>\n",
       "      <td>0.654</td>\n",
       "      <td>0.452</td>\n",
       "      <td>2.0</td>\n",
       "      <td>-9.709</td>\n",
       "      <td>0.0300</td>\n",
       "      <td>0.835</td>\n",
       "      <td>0.16</td>\n",
       "      <td>0.691</td>\n",
       "      <td>106.662</td>\n",
       "    </tr>\n",
       "    <tr>\n",
       "      <th>2</th>\n",
       "      <td>El Paso</td>\n",
       "      <td>Marty Robbins</td>\n",
       "      <td>29</td>\n",
       "      <td>1960</td>\n",
       "      <td>2</td>\n",
       "      <td>29</td>\n",
       "      <td>0.654</td>\n",
       "      <td>0.452</td>\n",
       "      <td>2.0</td>\n",
       "      <td>-9.709</td>\n",
       "      <td>0.0300</td>\n",
       "      <td>0.835</td>\n",
       "      <td>0.16</td>\n",
       "      <td>0.691</td>\n",
       "      <td>106.662</td>\n",
       "    </tr>\n",
       "    <tr>\n",
       "      <th>3</th>\n",
       "      <td>El Paso</td>\n",
       "      <td>Marty Robbins</td>\n",
       "      <td>86</td>\n",
       "      <td>1960</td>\n",
       "      <td>3</td>\n",
       "      <td>28</td>\n",
       "      <td>0.654</td>\n",
       "      <td>0.452</td>\n",
       "      <td>2.0</td>\n",
       "      <td>-9.709</td>\n",
       "      <td>0.0300</td>\n",
       "      <td>0.835</td>\n",
       "      <td>0.16</td>\n",
       "      <td>0.691</td>\n",
       "      <td>106.662</td>\n",
       "    </tr>\n",
       "    <tr>\n",
       "      <th>4</th>\n",
       "      <td>Why</td>\n",
       "      <td>Frankie Avalon</td>\n",
       "      <td>2</td>\n",
       "      <td>1960</td>\n",
       "      <td>1</td>\n",
       "      <td>4</td>\n",
       "      <td>0.510</td>\n",
       "      <td>0.349</td>\n",
       "      <td>5.0</td>\n",
       "      <td>-8.677</td>\n",
       "      <td>0.0264</td>\n",
       "      <td>0.762</td>\n",
       "      <td>0.13</td>\n",
       "      <td>0.586</td>\n",
       "      <td>94.267</td>\n",
       "    </tr>\n",
       "  </tbody>\n",
       "</table>\n",
       "</div>"
      ],
      "text/plain": [
       "     Track          Artist  Placement  Year  Month  Day  danceability  energy  \\\n",
       "0  El Paso   Marty Robbins          1  1960      1    4         0.654   0.452   \n",
       "1  El Paso   Marty Robbins          3  1960      2    1         0.654   0.452   \n",
       "2  El Paso   Marty Robbins         29  1960      2   29         0.654   0.452   \n",
       "3  El Paso   Marty Robbins         86  1960      3   28         0.654   0.452   \n",
       "4      Why  Frankie Avalon          2  1960      1    4         0.510   0.349   \n",
       "\n",
       "   key  loudness  speechiness  acousticness  liveness  valence    tempo  \n",
       "0  2.0    -9.709       0.0300         0.835      0.16    0.691  106.662  \n",
       "1  2.0    -9.709       0.0300         0.835      0.16    0.691  106.662  \n",
       "2  2.0    -9.709       0.0300         0.835      0.16    0.691  106.662  \n",
       "3  2.0    -9.709       0.0300         0.835      0.16    0.691  106.662  \n",
       "4  5.0    -8.677       0.0264         0.762      0.13    0.586   94.267  "
      ]
     },
     "execution_count": 4,
     "metadata": {},
     "output_type": "execute_result"
    }
   ],
   "source": [
    "# Import Dataset\n",
    "df = lib.import_music_df()\n",
    "df.head()"
   ]
  },
  {
   "cell_type": "code",
   "execution_count": 5,
   "metadata": {},
   "outputs": [
    {
     "data": {
      "text/plain": [
       "Index(['Track', 'Artist', 'Placement', 'Year', 'Month', 'Day', 'danceability',\n",
       "       'energy', 'key', 'loudness', 'speechiness', 'acousticness', 'liveness',\n",
       "       'valence', 'tempo'],\n",
       "      dtype='object')"
      ]
     },
     "execution_count": 5,
     "metadata": {},
     "output_type": "execute_result"
    }
   ],
   "source": [
    "#show data columns\n",
    "df.columns"
   ]
  },
  {
   "cell_type": "code",
   "execution_count": 6,
   "metadata": {},
   "outputs": [
    {
     "data": {
      "text/html": [
       "<div>\n",
       "<style scoped>\n",
       "    .dataframe tbody tr th:only-of-type {\n",
       "        vertical-align: middle;\n",
       "    }\n",
       "\n",
       "    .dataframe tbody tr th {\n",
       "        vertical-align: top;\n",
       "    }\n",
       "\n",
       "    .dataframe thead th {\n",
       "        text-align: right;\n",
       "    }\n",
       "</style>\n",
       "<table border=\"1\" class=\"dataframe\">\n",
       "  <thead>\n",
       "    <tr style=\"text-align: right;\">\n",
       "      <th></th>\n",
       "      <th>danceability</th>\n",
       "      <th>energy</th>\n",
       "      <th>key</th>\n",
       "      <th>loudness</th>\n",
       "      <th>speechiness</th>\n",
       "      <th>acousticness</th>\n",
       "      <th>liveness</th>\n",
       "      <th>valence</th>\n",
       "      <th>tempo</th>\n",
       "    </tr>\n",
       "  </thead>\n",
       "  <tbody>\n",
       "    <tr>\n",
       "      <th>7712</th>\n",
       "      <td>0.479</td>\n",
       "      <td>0.733</td>\n",
       "      <td>0.0</td>\n",
       "      <td>-8.753</td>\n",
       "      <td>0.0256</td>\n",
       "      <td>0.3060</td>\n",
       "      <td>0.4140</td>\n",
       "      <td>0.806</td>\n",
       "      <td>99.307</td>\n",
       "    </tr>\n",
       "    <tr>\n",
       "      <th>6351</th>\n",
       "      <td>0.423</td>\n",
       "      <td>0.681</td>\n",
       "      <td>10.0</td>\n",
       "      <td>-9.756</td>\n",
       "      <td>0.0397</td>\n",
       "      <td>0.0592</td>\n",
       "      <td>0.0889</td>\n",
       "      <td>0.559</td>\n",
       "      <td>110.461</td>\n",
       "    </tr>\n",
       "    <tr>\n",
       "      <th>4786</th>\n",
       "      <td>0.564</td>\n",
       "      <td>0.827</td>\n",
       "      <td>7.0</td>\n",
       "      <td>-7.089</td>\n",
       "      <td>0.0283</td>\n",
       "      <td>0.0904</td>\n",
       "      <td>0.1270</td>\n",
       "      <td>0.912</td>\n",
       "      <td>89.847</td>\n",
       "    </tr>\n",
       "    <tr>\n",
       "      <th>4105</th>\n",
       "      <td>0.673</td>\n",
       "      <td>0.349</td>\n",
       "      <td>4.0</td>\n",
       "      <td>-12.414</td>\n",
       "      <td>0.0368</td>\n",
       "      <td>0.6080</td>\n",
       "      <td>0.3800</td>\n",
       "      <td>0.609</td>\n",
       "      <td>124.451</td>\n",
       "    </tr>\n",
       "    <tr>\n",
       "      <th>7045</th>\n",
       "      <td>0.609</td>\n",
       "      <td>0.818</td>\n",
       "      <td>5.0</td>\n",
       "      <td>-4.620</td>\n",
       "      <td>0.0425</td>\n",
       "      <td>0.1140</td>\n",
       "      <td>0.0999</td>\n",
       "      <td>0.922</td>\n",
       "      <td>78.955</td>\n",
       "    </tr>\n",
       "    <tr>\n",
       "      <th>...</th>\n",
       "      <td>...</td>\n",
       "      <td>...</td>\n",
       "      <td>...</td>\n",
       "      <td>...</td>\n",
       "      <td>...</td>\n",
       "      <td>...</td>\n",
       "      <td>...</td>\n",
       "      <td>...</td>\n",
       "      <td>...</td>\n",
       "    </tr>\n",
       "    <tr>\n",
       "      <th>6347</th>\n",
       "      <td>0.699</td>\n",
       "      <td>0.627</td>\n",
       "      <td>7.0</td>\n",
       "      <td>-10.027</td>\n",
       "      <td>0.0269</td>\n",
       "      <td>0.2250</td>\n",
       "      <td>0.0466</td>\n",
       "      <td>0.847</td>\n",
       "      <td>134.906</td>\n",
       "    </tr>\n",
       "    <tr>\n",
       "      <th>40162</th>\n",
       "      <td>0.859</td>\n",
       "      <td>0.680</td>\n",
       "      <td>10.0</td>\n",
       "      <td>-9.213</td>\n",
       "      <td>0.1590</td>\n",
       "      <td>0.0289</td>\n",
       "      <td>0.2610</td>\n",
       "      <td>0.753</td>\n",
       "      <td>91.444</td>\n",
       "    </tr>\n",
       "    <tr>\n",
       "      <th>23060</th>\n",
       "      <td>0.535</td>\n",
       "      <td>0.716</td>\n",
       "      <td>4.0</td>\n",
       "      <td>-5.025</td>\n",
       "      <td>0.0431</td>\n",
       "      <td>0.3260</td>\n",
       "      <td>0.6590</td>\n",
       "      <td>0.901</td>\n",
       "      <td>94.379</td>\n",
       "    </tr>\n",
       "    <tr>\n",
       "      <th>32093</th>\n",
       "      <td>0.576</td>\n",
       "      <td>0.268</td>\n",
       "      <td>0.0</td>\n",
       "      <td>-14.313</td>\n",
       "      <td>0.0294</td>\n",
       "      <td>0.5470</td>\n",
       "      <td>0.1180</td>\n",
       "      <td>0.175</td>\n",
       "      <td>115.952</td>\n",
       "    </tr>\n",
       "    <tr>\n",
       "      <th>69904</th>\n",
       "      <td>0.568</td>\n",
       "      <td>0.764</td>\n",
       "      <td>5.0</td>\n",
       "      <td>-3.465</td>\n",
       "      <td>0.2550</td>\n",
       "      <td>0.2170</td>\n",
       "      <td>0.0931</td>\n",
       "      <td>0.625</td>\n",
       "      <td>179.985</td>\n",
       "    </tr>\n",
       "  </tbody>\n",
       "</table>\n",
       "<p>17275 rows × 9 columns</p>\n",
       "</div>"
      ],
      "text/plain": [
       "       danceability  energy   key  loudness  speechiness  acousticness  \\\n",
       "7712          0.479   0.733   0.0    -8.753       0.0256        0.3060   \n",
       "6351          0.423   0.681  10.0    -9.756       0.0397        0.0592   \n",
       "4786          0.564   0.827   7.0    -7.089       0.0283        0.0904   \n",
       "4105          0.673   0.349   4.0   -12.414       0.0368        0.6080   \n",
       "7045          0.609   0.818   5.0    -4.620       0.0425        0.1140   \n",
       "...             ...     ...   ...       ...          ...           ...   \n",
       "6347          0.699   0.627   7.0   -10.027       0.0269        0.2250   \n",
       "40162         0.859   0.680  10.0    -9.213       0.1590        0.0289   \n",
       "23060         0.535   0.716   4.0    -5.025       0.0431        0.3260   \n",
       "32093         0.576   0.268   0.0   -14.313       0.0294        0.5470   \n",
       "69904         0.568   0.764   5.0    -3.465       0.2550        0.2170   \n",
       "\n",
       "       liveness  valence    tempo  \n",
       "7712     0.4140    0.806   99.307  \n",
       "6351     0.0889    0.559  110.461  \n",
       "4786     0.1270    0.912   89.847  \n",
       "4105     0.3800    0.609  124.451  \n",
       "7045     0.0999    0.922   78.955  \n",
       "...         ...      ...      ...  \n",
       "6347     0.0466    0.847  134.906  \n",
       "40162    0.2610    0.753   91.444  \n",
       "23060    0.6590    0.901   94.379  \n",
       "32093    0.1180    0.175  115.952  \n",
       "69904    0.0931    0.625  179.985  \n",
       "\n",
       "[17275 rows x 9 columns]"
      ]
     },
     "execution_count": 6,
     "metadata": {},
     "output_type": "execute_result"
    }
   ],
   "source": [
    "#drop Unnamed column\n",
    "df = df.sort_values('Placement').drop_duplicates('Track', keep='last')\n",
    "attribute_df = df[['danceability', 'energy', 'key', 'loudness', \"speechiness\", 'acousticness', 'liveness', 'valence', 'tempo']]\n",
    "attribute_df"
   ]
  },
  {
   "cell_type": "markdown",
   "metadata": {},
   "source": [
    "## Machine Learning"
   ]
  },
  {
   "cell_type": "code",
   "execution_count": 7,
   "metadata": {},
   "outputs": [],
   "source": [
    "lists = []\n",
    "K = range(1,10)\n",
    "for k in K:\n",
    "    kmeanModel = KMeans(n_clusters=k)\n",
    "    kmeanModel.fit(attribute_df)\n",
    "    lists.append(kmeanModel.inertia_)"
   ]
  },
  {
   "cell_type": "code",
   "execution_count": 8,
   "metadata": {
    "scrolled": true
   },
   "outputs": [
    {
     "data": {
      "image/png": "[encoded data removed]",
      "text/plain": [
       "<Figure size 1152x576 with 1 Axes>"
      ]
     },
     "metadata": {
      "needs_background": "light"
     },
     "output_type": "display_data"
    }
   ],
   "source": [
    "plt.figure(figsize=(16,8))\n",
    "plt.plot(K, lists, 'bx-')\n",
    "plt.xlabel('k')\n",
    "plt.ylabel('Distortion')\n",
    "plt.title('The Elbow Method showing the optimal k')\n",
    "plt.savefig(f\"{image_filepath}/elbow.png\")\n",
    "sns.set_theme()\n",
    "plt.show()"
   ]
  },
  {
   "cell_type": "markdown",
   "metadata": {},
   "source": [
    "## Without Scaling"
   ]
  },
  {
   "cell_type": "code",
   "execution_count": 9,
   "metadata": {},
   "outputs": [
    {
     "name": "stderr",
     "output_type": "stream",
     "text": [
      "C:\\Users\\wollm\\anaconda3\\envs\\PythonML\\lib\\site-packages\\ipykernel_launcher.py:11: SettingWithCopyWarning: \n",
      "A value is trying to be set on a copy of a slice from a DataFrame.\n",
      "Try using .loc[row_indexer,col_indexer] = value instead\n",
      "\n",
      "See the caveats in the documentation: https://pandas.pydata.org/pandas-docs/stable/user_guide/indexing.html#returning-a-view-versus-a-copy\n",
      "  # This is added back by InteractiveShellApp.init_path()\n"
     ]
    }
   ],
   "source": [
    "# Create a kmeans model\n",
    "from sklearn.cluster import KMeans\n",
    "kmeans = KMeans(n_clusters=3)\n",
    "\n",
    "# Fit the model to the data\n",
    "kmeans.fit(attribute_df)\n",
    "\n",
    "# Use the data to predict the clusters\n",
    "# save the predictions as `predicted_clusters`\n",
    "predicted_clusters_no_scale = kmeans.predict(attribute_df)\n",
    "attribute_df[\"Cluster\"] = predicted_clusters_no_scale"
   ]
  },
  {
   "cell_type": "markdown",
   "metadata": {},
   "source": [
    "### Cluster Quality"
   ]
  },
  {
   "cell_type": "code",
   "execution_count": 10,
   "metadata": {},
   "outputs": [
    {
     "name": "stdout",
     "output_type": "stream",
     "text": [
      "Silhouetter Score: 0.508\n"
     ]
    }
   ],
   "source": [
    "from sklearn.metrics import silhouette_samples, silhouette_score\n",
    "# Calculate Silhoutte Score\n",
    "#\n",
    "score = silhouette_score(attribute_df, kmeans.labels_)\n",
    "#\n",
    "# Print the score\n",
    "#\n",
    "print('Silhouetter Score: %.3f' % score)"
   ]
  },
  {
   "cell_type": "markdown",
   "metadata": {},
   "source": [
    "The Silouetter Score is between -1 to 1. If the value is closer to 1, the clusters are more dense and\n",
    "and separated from other clusters."
   ]
  },
  {
   "cell_type": "code",
   "execution_count": 11,
   "metadata": {},
   "outputs": [
    {
     "data": {
      "image/png": "[encoded data removed]",
      "text/plain": [
       "<Figure size 432x288 with 1 Axes>"
      ]
     },
     "metadata": {},
     "output_type": "display_data"
    }
   ],
   "source": [
    "# Plot the clusters\n",
    "plt.scatter(attribute_df['Cluster'], attribute_df['tempo'], c=attribute_df['Cluster'], s=40, cmap='viridis')\n",
    "plt.show()"
   ]
  },
  {
   "cell_type": "markdown",
   "metadata": {},
   "source": [
    "### Save to File"
   ]
  },
  {
   "cell_type": "code",
   "execution_count": 12,
   "metadata": {},
   "outputs": [],
   "source": [
    "lib.save_model(kmeans, \"without-scaling\")"
   ]
  },
  {
   "cell_type": "markdown",
   "metadata": {},
   "source": [
    "## With Scaling"
   ]
  },
  {
   "cell_type": "code",
   "execution_count": 13,
   "metadata": {},
   "outputs": [
    {
     "data": {
      "text/html": [
       "<div>\n",
       "<style scoped>\n",
       "    .dataframe tbody tr th:only-of-type {\n",
       "        vertical-align: middle;\n",
       "    }\n",
       "\n",
       "    .dataframe tbody tr th {\n",
       "        vertical-align: top;\n",
       "    }\n",
       "\n",
       "    .dataframe thead th {\n",
       "        text-align: right;\n",
       "    }\n",
       "</style>\n",
       "<table border=\"1\" class=\"dataframe\">\n",
       "  <thead>\n",
       "    <tr style=\"text-align: right;\">\n",
       "      <th></th>\n",
       "      <th>danceability</th>\n",
       "      <th>energy</th>\n",
       "      <th>key</th>\n",
       "      <th>loudness</th>\n",
       "      <th>speechiness</th>\n",
       "      <th>acousticness</th>\n",
       "      <th>liveness</th>\n",
       "      <th>valence</th>\n",
       "      <th>tempo</th>\n",
       "    </tr>\n",
       "  </thead>\n",
       "  <tbody>\n",
       "    <tr>\n",
       "      <th>7712</th>\n",
       "      <td>0.484818</td>\n",
       "      <td>0.730310</td>\n",
       "      <td>0.000000</td>\n",
       "      <td>0.635764</td>\n",
       "      <td>0.026947</td>\n",
       "      <td>0.307845</td>\n",
       "      <td>0.406694</td>\n",
       "      <td>0.813320</td>\n",
       "      <td>0.412047</td>\n",
       "    </tr>\n",
       "    <tr>\n",
       "      <th>6351</th>\n",
       "      <td>0.428138</td>\n",
       "      <td>0.677189</td>\n",
       "      <td>0.909091</td>\n",
       "      <td>0.602685</td>\n",
       "      <td>0.041789</td>\n",
       "      <td>0.059555</td>\n",
       "      <td>0.076978</td>\n",
       "      <td>0.564077</td>\n",
       "      <td>0.458327</td>\n",
       "    </tr>\n",
       "    <tr>\n",
       "      <th>4786</th>\n",
       "      <td>0.570850</td>\n",
       "      <td>0.826336</td>\n",
       "      <td>0.636364</td>\n",
       "      <td>0.690643</td>\n",
       "      <td>0.029789</td>\n",
       "      <td>0.090944</td>\n",
       "      <td>0.115619</td>\n",
       "      <td>0.920283</td>\n",
       "      <td>0.372795</td>\n",
       "    </tr>\n",
       "    <tr>\n",
       "      <th>4105</th>\n",
       "      <td>0.681174</td>\n",
       "      <td>0.338032</td>\n",
       "      <td>0.363636</td>\n",
       "      <td>0.515023</td>\n",
       "      <td>0.038737</td>\n",
       "      <td>0.611669</td>\n",
       "      <td>0.372211</td>\n",
       "      <td>0.614531</td>\n",
       "      <td>0.516375</td>\n",
       "    </tr>\n",
       "    <tr>\n",
       "      <th>7045</th>\n",
       "      <td>0.616397</td>\n",
       "      <td>0.817142</td>\n",
       "      <td>0.454545</td>\n",
       "      <td>0.772072</td>\n",
       "      <td>0.044737</td>\n",
       "      <td>0.114686</td>\n",
       "      <td>0.088134</td>\n",
       "      <td>0.930373</td>\n",
       "      <td>0.327602</td>\n",
       "    </tr>\n",
       "  </tbody>\n",
       "</table>\n",
       "</div>"
      ],
      "text/plain": [
       "      danceability    energy       key  loudness  speechiness  acousticness  \\\n",
       "7712      0.484818  0.730310  0.000000  0.635764     0.026947      0.307845   \n",
       "6351      0.428138  0.677189  0.909091  0.602685     0.041789      0.059555   \n",
       "4786      0.570850  0.826336  0.636364  0.690643     0.029789      0.090944   \n",
       "4105      0.681174  0.338032  0.363636  0.515023     0.038737      0.611669   \n",
       "7045      0.616397  0.817142  0.454545  0.772072     0.044737      0.114686   \n",
       "\n",
       "      liveness   valence     tempo  \n",
       "7712  0.406694  0.813320  0.412047  \n",
       "6351  0.076978  0.564077  0.458327  \n",
       "4786  0.115619  0.920283  0.372795  \n",
       "4105  0.372211  0.614531  0.516375  \n",
       "7045  0.088134  0.930373  0.327602  "
      ]
     },
     "execution_count": 13,
     "metadata": {},
     "output_type": "execute_result"
    }
   ],
   "source": [
    "from sklearn import preprocessing\n",
    "from sklearn.preprocessing import MinMaxScaler\n",
    "scaler = MinMaxScaler()\n",
    "\n",
    "attribute_df = attribute_df.drop(\"Cluster\", axis=1)\n",
    "X_scaled = scaler.fit_transform(attribute_df)\n",
    "X_scaled_df = pd.DataFrame(scaler.fit_transform(attribute_df), columns=attribute_df.columns, index=attribute_df.index)\n",
    "X_scaled_df.head()"
   ]
  },
  {
   "cell_type": "code",
   "execution_count": 14,
   "metadata": {},
   "outputs": [],
   "source": [
    "# Create a kmeans model\n",
    "from sklearn.cluster import KMeans\n",
    "kmeans = KMeans(n_clusters=3)\n",
    "\n",
    "# Fit the model to the data\n",
    "kmeans.fit(X_scaled)\n",
    "\n",
    "# Use the data to predict the clusters\n",
    "# save the predictions as `predicted_clusters`\n",
    "predicted_clusters_with_scale = kmeans.predict(X_scaled)\n",
    "X_scaled_df[\"Cluster\"] = predicted_clusters_with_scale"
   ]
  },
  {
   "cell_type": "markdown",
   "metadata": {},
   "source": [
    "### Cluster Quality"
   ]
  },
  {
   "cell_type": "code",
   "execution_count": 15,
   "metadata": {},
   "outputs": [
    {
     "name": "stdout",
     "output_type": "stream",
     "text": [
      "Silhouetter Score: 0.230\n"
     ]
    }
   ],
   "source": [
    "from sklearn.metrics import silhouette_samples, silhouette_score\n",
    "# Calculate Silhoutte Score\n",
    "#\n",
    "score = silhouette_score(X_scaled, kmeans.labels_)\n",
    "#\n",
    "# Print the score\n",
    "#\n",
    "print('Silhouetter Score: %.3f' % score)\n"
   ]
  },
  {
   "cell_type": "markdown",
   "metadata": {},
   "source": [
    "The Silouetter Score is between -1 to 1. If the value is closer to 1, the clusters are more dense and\n",
    "and separated from other clusters."
   ]
  },
  {
   "cell_type": "code",
   "execution_count": 16,
   "metadata": {},
   "outputs": [
    {
     "data": {
      "image/png": "[encoded data removed]",
      "text/plain": [
       "<Figure size 432x288 with 1 Axes>"
      ]
     },
     "metadata": {},
     "output_type": "display_data"
    }
   ],
   "source": [
    "# Plot the clusters\n",
    "plt.scatter(X_scaled_df['Cluster'], X_scaled_df['tempo'], c=X_scaled_df['Cluster'], s=40, cmap='viridis')\n",
    "plt.show()"
   ]
  },
  {
   "cell_type": "markdown",
   "metadata": {},
   "source": [
    "### Save to File"
   ]
  },
  {
   "cell_type": "code",
   "execution_count": 17,
   "metadata": {},
   "outputs": [],
   "source": [
    "lib.save_model(kmeans, \"with-scaling\")"
   ]
  }
 ],
 "metadata": {
  "kernelspec": {
   "display_name": "Python 3",
   "language": "python",
   "name": "python3"
  },
  "language_info": {
   "codemirror_mode": {
    "name": "ipython",
    "version": 3
   },
   "file_extension": ".py",
   "mimetype": "text/x-python",
   "name": "python",
   "nbconvert_exporter": "python",
   "pygments_lexer": "ipython3",
   "version": "3.6.12"
  }
 },
 "nbformat": 4,
 "nbformat_minor": 4
}
