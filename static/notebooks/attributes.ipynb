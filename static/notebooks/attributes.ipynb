{
 "cells": [
  {
   "cell_type": "code",
   "execution_count": 1,
   "metadata": {},
   "outputs": [],
   "source": [
    "import pandas as pd\n",
    "import matplotlib.pyplot as plt\n",
    "import library as lib\n",
    "import seaborn as sns\n",
    "import numpy as np \n",
    "from scipy import stats"
   ]
  },
  {
   "cell_type": "code",
   "execution_count": 2,
   "metadata": {},
   "outputs": [],
   "source": [
    "image_filepath = \"../images/plots/attributes\""
   ]
  },
  {
   "cell_type": "code",
   "execution_count": 3,
   "metadata": {
    "scrolled": true
   },
   "outputs": [
    {
     "data": {
      "text/html": [
       "<div>\n",
       "<style scoped>\n",
       "    .dataframe tbody tr th:only-of-type {\n",
       "        vertical-align: middle;\n",
       "    }\n",
       "\n",
       "    .dataframe tbody tr th {\n",
       "        vertical-align: top;\n",
       "    }\n",
       "\n",
       "    .dataframe thead th {\n",
       "        text-align: right;\n",
       "    }\n",
       "</style>\n",
       "<table border=\"1\" class=\"dataframe\">\n",
       "  <thead>\n",
       "    <tr style=\"text-align: right;\">\n",
       "      <th></th>\n",
       "      <th>Track</th>\n",
       "      <th>Artist</th>\n",
       "      <th>Placement</th>\n",
       "      <th>Year</th>\n",
       "      <th>Month</th>\n",
       "      <th>Day</th>\n",
       "      <th>danceability</th>\n",
       "      <th>energy</th>\n",
       "      <th>key</th>\n",
       "      <th>loudness</th>\n",
       "      <th>speechiness</th>\n",
       "      <th>acousticness</th>\n",
       "      <th>liveness</th>\n",
       "      <th>valence</th>\n",
       "      <th>tempo</th>\n",
       "      <th>Cluster</th>\n",
       "    </tr>\n",
       "  </thead>\n",
       "  <tbody>\n",
       "    <tr>\n",
       "      <th>0</th>\n",
       "      <td>El Paso</td>\n",
       "      <td>Marty Robbins</td>\n",
       "      <td>1</td>\n",
       "      <td>1960</td>\n",
       "      <td>1</td>\n",
       "      <td>4</td>\n",
       "      <td>0.654</td>\n",
       "      <td>0.452</td>\n",
       "      <td>2.0</td>\n",
       "      <td>-9.709</td>\n",
       "      <td>0.0300</td>\n",
       "      <td>0.835</td>\n",
       "      <td>0.160</td>\n",
       "      <td>0.691</td>\n",
       "      <td>106.662</td>\n",
       "      <td>1</td>\n",
       "    </tr>\n",
       "    <tr>\n",
       "      <th>4</th>\n",
       "      <td>Why</td>\n",
       "      <td>Frankie Avalon</td>\n",
       "      <td>2</td>\n",
       "      <td>1960</td>\n",
       "      <td>1</td>\n",
       "      <td>4</td>\n",
       "      <td>0.510</td>\n",
       "      <td>0.349</td>\n",
       "      <td>5.0</td>\n",
       "      <td>-8.677</td>\n",
       "      <td>0.0264</td>\n",
       "      <td>0.762</td>\n",
       "      <td>0.130</td>\n",
       "      <td>0.586</td>\n",
       "      <td>94.267</td>\n",
       "      <td>1</td>\n",
       "    </tr>\n",
       "    <tr>\n",
       "      <th>7</th>\n",
       "      <td>The Big Hurt</td>\n",
       "      <td>Miss Toni Fisher</td>\n",
       "      <td>3</td>\n",
       "      <td>1960</td>\n",
       "      <td>1</td>\n",
       "      <td>4</td>\n",
       "      <td>0.624</td>\n",
       "      <td>0.557</td>\n",
       "      <td>0.0</td>\n",
       "      <td>-8.309</td>\n",
       "      <td>0.0299</td>\n",
       "      <td>0.783</td>\n",
       "      <td>0.173</td>\n",
       "      <td>0.676</td>\n",
       "      <td>123.919</td>\n",
       "      <td>0</td>\n",
       "    </tr>\n",
       "    <tr>\n",
       "      <th>14</th>\n",
       "      <td>Heartaches By The Number</td>\n",
       "      <td>Guy Mitchell</td>\n",
       "      <td>6</td>\n",
       "      <td>1960</td>\n",
       "      <td>1</td>\n",
       "      <td>4</td>\n",
       "      <td>0.584</td>\n",
       "      <td>0.589</td>\n",
       "      <td>5.0</td>\n",
       "      <td>-11.203</td>\n",
       "      <td>0.0718</td>\n",
       "      <td>0.463</td>\n",
       "      <td>0.069</td>\n",
       "      <td>0.842</td>\n",
       "      <td>172.484</td>\n",
       "      <td>2</td>\n",
       "    </tr>\n",
       "    <tr>\n",
       "      <th>16</th>\n",
       "      <td>It's Time To Cry</td>\n",
       "      <td>Paul Anka</td>\n",
       "      <td>7</td>\n",
       "      <td>1960</td>\n",
       "      <td>1</td>\n",
       "      <td>4</td>\n",
       "      <td>0.311</td>\n",
       "      <td>0.314</td>\n",
       "      <td>3.0</td>\n",
       "      <td>-12.810</td>\n",
       "      <td>0.0325</td>\n",
       "      <td>0.731</td>\n",
       "      <td>0.335</td>\n",
       "      <td>0.565</td>\n",
       "      <td>109.983</td>\n",
       "      <td>0</td>\n",
       "    </tr>\n",
       "  </tbody>\n",
       "</table>\n",
       "</div>"
      ],
      "text/plain": [
       "                       Track            Artist  Placement  Year  Month  Day  \\\n",
       "0                    El Paso     Marty Robbins          1  1960      1    4   \n",
       "4                        Why    Frankie Avalon          2  1960      1    4   \n",
       "7               The Big Hurt  Miss Toni Fisher          3  1960      1    4   \n",
       "14  Heartaches By The Number      Guy Mitchell          6  1960      1    4   \n",
       "16          It's Time To Cry         Paul Anka          7  1960      1    4   \n",
       "\n",
       "    danceability  energy  key  loudness  speechiness  acousticness  liveness  \\\n",
       "0          0.654   0.452  2.0    -9.709       0.0300         0.835     0.160   \n",
       "4          0.510   0.349  5.0    -8.677       0.0264         0.762     0.130   \n",
       "7          0.624   0.557  0.0    -8.309       0.0299         0.783     0.173   \n",
       "14         0.584   0.589  5.0   -11.203       0.0718         0.463     0.069   \n",
       "16         0.311   0.314  3.0   -12.810       0.0325         0.731     0.335   \n",
       "\n",
       "    valence    tempo  Cluster  \n",
       "0     0.691  106.662        1  \n",
       "4     0.586   94.267        1  \n",
       "7     0.676  123.919        0  \n",
       "14    0.842  172.484        2  \n",
       "16    0.565  109.983        0  "
      ]
     },
     "execution_count": 3,
     "metadata": {},
     "output_type": "execute_result"
    }
   ],
   "source": [
    "#import data without duplicates and without scaled\n",
    "df = lib.import_music_df_with_model(with_scaling = False, remove_dups = True)\n",
    "df.head()"
   ]
  },
  {
   "cell_type": "code",
   "execution_count": 4,
   "metadata": {},
   "outputs": [
    {
     "ename": "SyntaxError",
     "evalue": "invalid syntax (<ipython-input-4-01d795011629>, line 6)",
     "output_type": "error",
     "traceback": [
      "\u001b[1;36m  File \u001b[1;32m\"<ipython-input-4-01d795011629>\"\u001b[1;36m, line \u001b[1;32m6\u001b[0m\n\u001b[1;33m    sns.set_theme()plt.savefig(f'{image_filepath}/total_songs_cluster.png')\u001b[0m\n\u001b[1;37m                     ^\u001b[0m\n\u001b[1;31mSyntaxError\u001b[0m\u001b[1;31m:\u001b[0m invalid syntax\n"
     ]
    }
   ],
   "source": [
    "df['Cluster'].value_counts().plot(kind='bar')\n",
    "# we can see cluster 0 is the majority followed by cluster 1 and cluster 2\n",
    "plt.title('Counts of Songs by Cluster')\n",
    "plt.ylabel('Counts')\n",
    "plt.xlabel('Cluster')\n",
    "sns.set_theme()\n",
    "plt.savefig(f'{image_filepath}/total_songs_cluster.png')"
   ]
  },
  {
   "cell_type": "code",
   "execution_count": null,
   "metadata": {},
   "outputs": [],
   "source": [
    "df = lib.import_music_df_with_model()\n",
    "df.head() # the correlation coefficient between each feature\n",
    "attr_corr= df.iloc[:,6:].corr()\n",
    "attr_corr"
   ]
  },
  {
   "cell_type": "code",
   "execution_count": null,
   "metadata": {},
   "outputs": [],
   "source": [
    "# visuallize the correlation for all features\n",
    "import numpy as np\n",
    "# modified by https://seaborn.pydata.org/examples/many_pairwise_correlations.html\n",
    "# Generate a mask for the upper triangle\n",
    "mask = np.triu(np.ones_like(attr_corr, dtype=bool))\n",
    "\n",
    "# Set up the matplotlib figure\n",
    "f, ax = plt.subplots(figsize=(11, 9))\n",
    "\n",
    "# Generate a custom diverging colormap\n",
    "cmap = sns.diverging_palette(230, 20, as_cmap=True)\n",
    "\n",
    "# Draw the heatmap with the mask and correct aspect ratio\n",
    "sns.heatmap(attr_corr, mask=mask, cmap=cmap, vmin=-.5,vmax=.5, center=0,\n",
    "            square=True, linewidths=.5, cbar_kws={\"shrink\": .5})\n",
    "\n",
    "sns.set_theme()"
   ]
  },
  {
   "cell_type": "code",
   "execution_count": null,
   "metadata": {
    "scrolled": true
   },
   "outputs": [],
   "source": [
    "# create columns to store the labels,which is done by deviding the values for each attribute into 5 groups\n",
    "df_label = df.iloc[:,6:]\n",
    "df_label['count'] = 1\n",
    "for i in (df_label.columns[:-2]):\n",
    "    df_label[f'{i}_label'] = list(pd.cut(df_label[i],bins=5))\n",
    "df_label = df_label.iloc[:,9:]\n",
    "df_label.head()"
   ]
  },
  {
   "cell_type": "code",
   "execution_count": null,
   "metadata": {
    "scrolled": false
   },
   "outputs": [],
   "source": [
    "#calculate the independance between each features and cluster with Chi Square Test\n",
    "attribute_list = []\n",
    "sig_list = []\n",
    "p_value_list = []\n",
    "\n",
    "\n",
    "for i in (df.columns[6:-1]):\n",
    "    attri_raw = df_label[[f'{i}_label','count','Cluster']]\n",
    "\n",
    "        \n",
    "    cumulated_feature_by_cluster = attri_raw.groupby([f'{i}_label','Cluster'])['count'].sum()\n",
    "\n",
    "\n",
    "    chi_df =  cumulated_feature_by_cluster.unstack().fillna(0)\n",
    "    chi_df_np = chi_df.to_numpy()\n",
    "    \n",
    "    \n",
    "    attribute_list.append(i)\n",
    "    \n",
    "    chi_squared_stat, p_value, df_chi, expected_crosstab = stats.chi2_contingency(chi_df_np)\n",
    "    if p_value < 0.05:\n",
    "        sig_list.append('O')\n",
    "    else:\n",
    "        sig_list.append(' ')\n",
    "    p_value_list.append(p_value)\n",
    "\n",
    "sig_df = pd.DataFrame({'attribute':attribute_list,'significant':sig_list,'p_value':p_value_list})\n",
    "sig_df = sig_df.sort_values('p_value').reset_index(drop=True)\n",
    "sig_df"
   ]
  },
  {
   "cell_type": "code",
   "execution_count": null,
   "metadata": {},
   "outputs": [],
   "source": [
    "label_list=sig_df['attribute'][:-1]\n",
    "def dist_plot_cluster_percent(label_list=label_list):\n",
    "    for i in label_list:\n",
    "        fig, axes = plt.subplots(1,3,sharex=True,sharey=True,figsize=(15,5))\n",
    "        plt.subplots_adjust(wspace = 0.5,hspace=0.5)\n",
    "        fig.suptitle(f'Distribution Plot for [{i}]',y=1.05)\n",
    "        attri_raw=df_label[[f'{i}_label','count','Cluster']]\n",
    "        x_axis=[]\n",
    "        for l in list(attri_raw[f'{i}_label'].sort_values().unique()):\n",
    "            x_axis.append(str(l))        \n",
    "       \n",
    "        if i == 'tempo':\n",
    "            for c in list(range(3)):\n",
    "                pd_raw=attri_raw[attri_raw['Cluster']==c]\n",
    "                pd_series=pd_raw[f'{i}_label']\n",
    "                mode=pd_series.value_counts().index[0]\n",
    "                color=['lightblue', 'lightblue', 'lightblue', 'lightblue', 'lightblue']\n",
    "                color[x_axis.index(str(mode))]='darkred'\n",
    "                y_axises={0:[0,0,31651,989,0],1:[11,14601,11682,0,0],2:[0,0,0,10160,811]}\n",
    "                y_axis = [i/sum(y_axises[c])*100 for i in y_axises[c]]\n",
    "                axes[c].bar(x=x_axis,height=y_axis,color=color)\n",
    "                axes[c].set_title(f'The mode of {i} for \\n[Cluster {c}] is {mode}')\n",
    "                axes[c].set_xticklabels(x_axis, rotation=90)\n",
    "                axes[0].set_ylabel('Percentage')\n",
    "            plt.savefig(f'{image_filepath}/{i}_percent'.lower(),bbox_inches='tight')\n",
    "                \n",
    "        else:\n",
    "            for c in list(range(3)):\n",
    "                pd_raw=attri_raw[attri_raw['Cluster']==c]\n",
    "                pd_series=pd_raw[f'{i}_label']\n",
    "                mode=pd_series.value_counts().index[0]\n",
    "                color=['lightblue', 'lightblue', 'lightblue', 'lightblue', 'lightblue']\n",
    "                color[x_axis.index(str(mode))]='darkred'\n",
    "                y_axis=pd_raw.groupby(f'{i}_label')['count'].sum()\n",
    "                total=sum(y_axis)\n",
    "                y_axis=[i/total*100 for i in y_axis]\n",
    "                axes[c].bar(x=x_axis,height=y_axis,color=color)\n",
    "                axes[c].set_title(f'The mode of {i} for \\n[Cluster {c}] is {mode}')\n",
    "                axes[c].set_xticklabels(x_axis, rotation=90)\n",
    "                axes[0].set_ylabel('Percentage')\n",
    "            plt.savefig(f'{image_filepath}/{i}_percent'.lower(),bbox_inches='tight')\n",
    "        \n",
    "        sns.set_theme()\n",
    "        plt.show()\n",
    "    "
   ]
  },
  {
   "cell_type": "code",
   "execution_count": null,
   "metadata": {
    "scrolled": true
   },
   "outputs": [],
   "source": [
    "dist_plot_cluster_percent()"
   ]
  },
  {
   "cell_type": "code",
   "execution_count": null,
   "metadata": {},
   "outputs": [],
   "source": [
    "X=df.iloc[:,6:-1]\n",
    "y=df.iloc[:,-1]"
   ]
  },
  {
   "cell_type": "code",
   "execution_count": null,
   "metadata": {},
   "outputs": [],
   "source": [
    "from sklearn.model_selection import train_test_split\n",
    "X_train, X_test, y_train, y_test = train_test_split(X, y, test_size=0.25, random_state=1)"
   ]
  },
  {
   "cell_type": "code",
   "execution_count": null,
   "metadata": {},
   "outputs": [],
   "source": [
    "from sklearn.ensemble import RandomForestClassifier\n",
    "from sklearn.datasets import make_classification\n",
    "clf = RandomForestClassifier(max_depth=3,n_estimators=100,random_state=1)\n",
    "clf.fit(X_train, y_train)\n",
    "clf.feature_importances_"
   ]
  },
  {
   "cell_type": "code",
   "execution_count": null,
   "metadata": {},
   "outputs": [],
   "source": [
    "predictions = clf.predict(X_test)\n",
    "errors = abs(predictions - y_test)\n",
    "total_error_counts=[1 if i!=0 else 0 for i in errors]\n",
    "# Print out the mean absolute error (mae)\n",
    "print('Mean Absolute Error:', round(np.mean(errors), 2), 'degrees.')"
   ]
  },
  {
   "cell_type": "code",
   "execution_count": null,
   "metadata": {},
   "outputs": [],
   "source": [
    "# Calculate mean absolute percentage error (MAPE)\n",
    "mape = 100 * (sum(total_error_counts) / len(y_test))\n",
    "# Calculate and display accuracy\n",
    "accuracy = 100 - np.mean(mape)\n",
    "print('Accuracy:', round(accuracy, 2), '%.')\n",
    "pd.DataFrame({'feature':X_train.columns,'importance':clf.feature_importances_}).\\\n",
    "    sort_values('importance',ascending=False)"
   ]
  },
  {
   "cell_type": "code",
   "execution_count": null,
   "metadata": {},
   "outputs": [],
   "source": [
    "pd.DataFrame({'feature':X_train.columns,'importance':clf.feature_importances_}).\\\n",
    "    sort_values('importance',ascending=False)\n"
   ]
  },
  {
   "cell_type": "code",
   "execution_count": null,
   "metadata": {},
   "outputs": [],
   "source": []
  }
 ],
 "metadata": {
  "kernelspec": {
   "display_name": "Python 3",
   "language": "python",
   "name": "python3"
  },
  "language_info": {
   "codemirror_mode": {
    "name": "ipython",
    "version": 3
   },
   "file_extension": ".py",
   "mimetype": "text/x-python",
   "name": "python",
   "nbconvert_exporter": "python",
   "pygments_lexer": "ipython3",
   "version": "3.6.12"
  }
 },
 "nbformat": 4,
 "nbformat_minor": 4
}
