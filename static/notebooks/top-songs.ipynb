{
 "cells": [
  {
   "cell_type": "code",
   "execution_count": null,
   "metadata": {},
   "outputs": [],
   "source": [
    "pip install seaborn"
   ]
  },
  {
   "cell_type": "code",
   "execution_count": null,
   "metadata": {},
   "outputs": [],
   "source": [
    "import pandas as pd\n",
    "import matplotlib.pyplot as plt\n",
    "import library as lib\n",
    "import seaborn as sns"
   ]
  },
  {
   "cell_type": "code",
   "execution_count": null,
   "metadata": {},
   "outputs": [],
   "source": [
    "df = lib.import_music_df_with_model()\n",
    "df.head()"
   ]
  },
  {
   "cell_type": "code",
   "execution_count": null,
   "metadata": {},
   "outputs": [],
   "source": [
    "image_filepath = \"../images/plots/top-songs\""
   ]
  },
  {
   "cell_type": "code",
   "execution_count": null,
   "metadata": {},
   "outputs": [],
   "source": [
    "attribute_df = df[['Placement','danceability', 'energy', 'key', 'loudness', 'speechiness', 'acousticness', 'liveness', 'valence', 'tempo', 'Cluster']]"
   ]
  },
  {
   "cell_type": "code",
   "execution_count": null,
   "metadata": {},
   "outputs": [],
   "source": [
    "top_20 = attribute_df[attribute_df['Placement'].between(1, 20)]\n",
    "top_40 = attribute_df[attribute_df['Placement'].between(21, 40)]\n",
    "top_60 = attribute_df[attribute_df['Placement'].between(41, 60)]\n",
    "top_80 = attribute_df[attribute_df['Placement'].between(61, 80)]\n",
    "top_100 = attribute_df[attribute_df['Placement'].between(81, 100)]"
   ]
  },
  {
   "cell_type": "code",
   "execution_count": null,
   "metadata": {},
   "outputs": [],
   "source": [
    "top_20.Cluster.groupby(top_20.Cluster).count().plot(kind='pie', title=(\"Clusters in Songs 1-20\"), autopct=\"%1.1f%%\", colors = ['magenta', 'pink', 'purple'], startangle=140)\n",
    "plt.axis('equal')\n",
    "plt.savefig(f\"{image_filepath}/songs1-20.png\")\n",
    "sns.set_theme()\n",
    "plt.show()"
   ]
  },
  {
   "cell_type": "code",
   "execution_count": null,
   "metadata": {},
   "outputs": [],
   "source": [
    "top_40.Cluster.groupby(top_40.Cluster).count().plot(kind='pie', title=(\"Clusters in songs 21-40\"), autopct=\"%1.1f%%\", colors = ['magenta', 'pink', 'purple'], startangle=140)\n",
    "plt.axis('equal')\n",
    "plt.savefig(f\"{image_filepath}/songs21-40.png\")\n",
    "sns.set_theme()\n",
    "plt.show()"
   ]
  },
  {
   "cell_type": "code",
   "execution_count": null,
   "metadata": {},
   "outputs": [],
   "source": [
    "top_60.Cluster.groupby(top_60.Cluster).count().plot(kind='pie', title=(\"Clusters in songs 41-60\"), autopct=\"%1.1f%%\", colors = ['magenta', 'pink', 'purple'], startangle=140)\n",
    "plt.axis('equal')\n",
    "plt.savefig(f\"{image_filepath}/songs41-60.png\")\n",
    "sns.set_theme()\n",
    "plt.show()"
   ]
  },
  {
   "cell_type": "code",
   "execution_count": null,
   "metadata": {},
   "outputs": [],
   "source": [
    "top_80.Cluster.groupby(top_80.Cluster).count().plot(kind='pie', title=(\"Clusters in songs 61-80\"), autopct=\"%1.1f%%\", colors = ['magenta', 'pink', 'purple'], startangle=140)\n",
    "plt.axis('equal')\n",
    "plt.savefig(f\"{image_filepath}/songs61-80.png\")\n",
    "sns.set_theme()\n",
    "plt.show()"
   ]
  },
  {
   "cell_type": "code",
   "execution_count": null,
   "metadata": {},
   "outputs": [],
   "source": [
    "top_100.Cluster.groupby(top_100.Cluster).count().plot(kind='pie', title=(\"Clusters in songs 81-100\"), autopct=\"%1.1f%%\", colors = ['magenta', 'pink', 'purple'], startangle=140)\n",
    "plt.axis('equal')\n",
    "plt.savefig(f\"{image_filepath}/songs81-100.png\")\n",
    "sns.set_theme()\n",
    "plt.show()"
   ]
  },
  {
   "cell_type": "code",
   "execution_count": null,
   "metadata": {},
   "outputs": [],
   "source": [
    "columns = list(top_20.columns)\n",
    "columns.remove('Cluster')\n",
    "columns.remove('Placement')\n",
    "\n",
    "fig, ax = plt.subplots(1, len(columns), figsize = (20, 5))\n",
    "\n",
    "for idx, col in enumerate(columns, 0):\n",
    "    ax[idx].plot(top_20['Cluster'], top_20[col], 'o')\n",
    "    ax[idx].set_xlabel('Cluster')\n",
    "    ax[idx].set_title(col)\n",
    "\n",
    "plt.savefig(f\"{image_filepath}/scattersongs1-20.png\")\n",
    "plt.show()"
   ]
  },
  {
   "cell_type": "code",
   "execution_count": null,
   "metadata": {},
   "outputs": [],
   "source": [
    "columns = list(top_40.columns)\n",
    "columns.remove('Cluster')\n",
    "columns.remove('Placement')\n",
    "\n",
    "\n",
    "fig, ax = plt.subplots(1, len(columns), figsize = (20, 5))\n",
    "\n",
    "for idx, col in enumerate(columns, 0):\n",
    "    ax[idx].plot(top_40['Cluster'], top_40[col], 'o')\n",
    "    ax[idx].set_xlabel('Cluster')\n",
    "    ax[idx].set_title(col)\n",
    "\n",
    "plt.savefig(f\"{image_filepath}/scattersongs21-40.png\")\n",
    "plt.show()"
   ]
  },
  {
   "cell_type": "code",
   "execution_count": null,
   "metadata": {},
   "outputs": [],
   "source": [
    "columns = list(top_60.columns)\n",
    "columns.remove('Cluster')\n",
    "columns.remove('Placement')\n",
    "\n",
    "\n",
    "fig, ax = plt.subplots(1, len(columns), figsize = (20, 5))\n",
    "\n",
    "for idx, col in enumerate(columns, 0):\n",
    "    ax[idx].plot(top_60['Cluster'], top_60[col], 'o')\n",
    "    ax[idx].set_xlabel('Cluster')\n",
    "    ax[idx].set_title(col)\n",
    "    \n",
    "plt.savefig(f\"{image_filepath}/scattersongs41-60.png\")\n",
    "plt.show()"
   ]
  },
  {
   "cell_type": "code",
   "execution_count": null,
   "metadata": {},
   "outputs": [],
   "source": [
    "columns = list(top_80.columns)\n",
    "columns.remove('Cluster')\n",
    "columns.remove('Placement')\n",
    "\n",
    "\n",
    "fig, ax = plt.subplots(1, len(columns), figsize = (20, 5))\n",
    "\n",
    "for idx, col in enumerate(columns, 0):\n",
    "    ax[idx].plot(top_80['Cluster'], top_80[col], 'o')\n",
    "    ax[idx].set_xlabel('Cluster')\n",
    "    ax[idx].set_title(col)\n",
    "\n",
    "plt.savefig(f\"{image_filepath}/scattersongs61-80.png\")\n",
    "plt.show()"
   ]
  },
  {
   "cell_type": "code",
   "execution_count": null,
   "metadata": {},
   "outputs": [],
   "source": [
    "columns = list(top_100.columns)\n",
    "columns.remove('Cluster')\n",
    "columns.remove('Placement')\n",
    "\n",
    "\n",
    "fig, ax = plt.subplots(1, len(columns), figsize = (20, 5))\n",
    "\n",
    "for idx, col in enumerate(columns, 0):\n",
    "    ax[idx].plot(top_100['Cluster'], top_100[col], 'o')\n",
    "    ax[idx].set_xlabel('Cluster')\n",
    "    ax[idx].set_title(col)\n",
    "    \n",
    "plt.savefig(f\"{image_filepath}/scattersongs81-100.png\")\n",
    "plt.show()"
   ]
  },
  {
   "cell_type": "markdown",
   "metadata": {},
   "source": [
    "# Aaron's Graphs"
   ]
  },
  {
   "cell_type": "code",
   "execution_count": null,
   "metadata": {},
   "outputs": [],
   "source": [
    "def get_rank(row):\n",
    "    placement = row[\"Placement\"]\n",
    "    if placement < 20:\n",
    "        return \"Top 20\"\n",
    "    elif placement < 40:\n",
    "        return \"Top 40\"\n",
    "    elif placement < 60:\n",
    "        return \"Top 60\"\n",
    "    elif placement < 80:\n",
    "        return \"Top 80\"\n",
    "    else:\n",
    "        return \"Top 100\"\n",
    "attribute_df[\"Rank\"] = attribute_df.apply(get_rank, axis = 1)\n",
    "attribute_df.head()"
   ]
  },
  {
   "cell_type": "code",
   "execution_count": null,
   "metadata": {},
   "outputs": [],
   "source": [
    "rank_gb = attribute_df.groupby([\"Rank\", \"Cluster\"])\n",
    "count_df = rank_gb.count()\n",
    "count_df = count_df.reindex([\"Top 20\", \"Top 40\", \"Top 60\", \"Top 80\", \"Top 100\"], level=\"Rank\")\n",
    "count_df"
   ]
  },
  {
   "cell_type": "code",
   "execution_count": null,
   "metadata": {},
   "outputs": [],
   "source": [
    "axis = count_df[[\"energy\"]].unstack('Cluster').plot(kind=\"bar\", title = \"Number of Hits Per Rank\")\n",
    "axis.set_ylabel(\"Number of Hits\")\n",
    "axis.legend([\"Cluster 0\", \"Cluster 1\", \"Cluster 2\"], loc='center right', bbox_to_anchor=(1.275, .5))\n",
    "plt.savefig(f\"{image_filepath}/hits-per-rank.png\", bbox_inches='tight')\n",
    "plt.show()"
   ]
  },
  {
   "cell_type": "code",
   "execution_count": null,
   "metadata": {},
   "outputs": [],
   "source": [
    "mean_df = rank_gb.median()\n",
    "mean_df = mean_df.reindex([\"Top 20\", \"Top 40\", \"Top 60\", \"Top 80\", \"Top 100\"], level=\"Rank\")\n",
    "mean_df"
   ]
  },
  {
   "cell_type": "code",
   "execution_count": null,
   "metadata": {
    "scrolled": false
   },
   "outputs": [],
   "source": [
    "columns = [\n",
    "    \"danceability\",\n",
    "    \"energy\",\n",
    "    \"key\",\n",
    "    \"loudness\",\n",
    "    \"speechiness\",\n",
    "    \"acousticness\",\n",
    "    \"liveness\",\n",
    "    \"valence\",\n",
    "    \"tempo\"\n",
    "]\n",
    "for column in columns:\n",
    "    axis = mean_df[[column]].unstack('Cluster').plot(kind=\"line\", title = f\"Average {column.capitalize()} Per Rank\")\n",
    "    axis.set_ylabel(f\"Average {column.capitalize()}\")\n",
    "    axis.legend([\"Cluster 0\", \"Cluster 1\", \"Cluster 2\"], loc='center right', bbox_to_anchor=(1.275, .5))\n",
    "    plt.savefig(f\"{image_filepath}/{column.lower()}.png\", bbox_inches='tight')\n",
    "    plt.show()"
   ]
  }
 ],
 "metadata": {
  "kernelspec": {
   "display_name": "Python 3",
   "language": "python",
   "name": "python3"
  },
  "language_info": {
   "codemirror_mode": {
    "name": "ipython",
    "version": 3
   },
   "file_extension": ".py",
   "mimetype": "text/x-python",
   "name": "python",
   "nbconvert_exporter": "python",
   "pygments_lexer": "ipython3",
   "version": "3.6.12"
  }
 },
 "nbformat": 4,
 "nbformat_minor": 4
}
