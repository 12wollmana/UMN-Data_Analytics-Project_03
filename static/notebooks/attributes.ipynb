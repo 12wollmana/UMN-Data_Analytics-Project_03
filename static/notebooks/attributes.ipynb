{
 "cells": [
  {
   "cell_type": "code",
   "execution_count": null,
   "metadata": {},
   "outputs": [],
   "source": [
    "import pandas as pd\n",
    "import matplotlib.pyplot as plt\n",
    "import library as lib\n",
    "import seaborn as sns\n",
    "import numpy as np"
   ]
  },
  {
   "cell_type": "code",
   "execution_count": null,
   "metadata": {},
   "outputs": [],
   "source": [
    "image_filepath = \"../images/plots/attributes\""
   ]
  },
  {
   "cell_type": "code",
   "execution_count": null,
   "metadata": {},
   "outputs": [],
   "source": [
    "df = lib.import_music_df_with_model()\n",
    "df.head()"
   ]
  },
  {
   "cell_type": "code",
   "execution_count": null,
   "metadata": {},
   "outputs": [],
   "source": [
    "from collections import Counter\n",
    "Counter(df[\"Cluster\"])"
   ]
  },
  {
   "cell_type": "code",
   "execution_count": null,
   "metadata": {},
   "outputs": [],
   "source": [
    "def dist_plot_cluster_percent(label_list=df.columns[6:-1]):\n",
    "    for i in label_list:\n",
    "        fig, axes = plt.subplots(1,3,sharex=True,sharey=True,figsize=(15,5))\n",
    "        plt.subplots_adjust(wspace = 0.5,hspace=0.5)\n",
    "        fig.suptitle(f'Distribution Plot for [{i}]',y=1.05)\n",
    "        attri_raw=df[[i,'Cluster']].copy()\n",
    "        attri_raw['label']=list(pd.cut(attri_raw[i],bins=5))\n",
    "        attri_raw['count']=1\n",
    "        x_axis=[]\n",
    "        for l in list(attri_raw['label'].sort_values().unique()):\n",
    "            x_axis.append(str(l))\n",
    "            \n",
    "        if i == 'tempo':\n",
    "            for c in list(range(3)):\n",
    "                pd_raw=attri_raw[attri_raw['Cluster']==c]\n",
    "                pd_series=pd_raw['label']\n",
    "                mode=pd_series.value_counts().index[0]\n",
    "                y_axises={0:[0,0,31651,989,0],1:[11,14601,11682,0,0],2:[0,0,0,10160,811]}\n",
    "                y_axis = [i/sum(y_axises[c])*100 for i in y_axises[c]]\n",
    "                axes[c].bar(x=x_axis,height=y_axis)\n",
    "                axes[c].set_title(f'The mode of {i} for \\n[Cluster {c}] is {mode}')\n",
    "                axes[c].set_xticklabels(x_axis, rotation=90)\n",
    "                axes[0].set_ylabel('Percentage')\n",
    "            i=False\n",
    "            plt.savefig(f'{image_filepath}/{i}'.lower())\n",
    "                \n",
    "        else:\n",
    "            for c in list(range(3)):\n",
    "                pd_raw=attri_raw[attri_raw['Cluster']==c]\n",
    "                pd_series=pd_raw['label']\n",
    "                mode=pd_series.value_counts().index[0]\n",
    "                y_axis=pd_raw.groupby('label')['count'].sum()\n",
    "                total=sum(y_axis)\n",
    "                y_axis=[i/total*100 for i in y_axis]\n",
    "                axes[c].bar(x=x_axis,height=y_axis)\n",
    "                axes[c].set_title(f'The mode of {i} for \\n[Cluster {c}] is {mode}')\n",
    "                axes[c].set_xticklabels(x_axis, rotation=90)\n",
    "                axes[0].set_ylabel('Percentage')\n",
    "            plt.savefig(f'{image_filepath}/{i}_percent'.lower())\n",
    "        \n",
    "        plt.show()\n",
    "    "
   ]
  },
  {
   "cell_type": "code",
   "execution_count": null,
   "metadata": {
    "scrolled": false
   },
   "outputs": [],
   "source": [
    "dist_plot_cluster_percent()"
   ]
  },
  {
   "cell_type": "code",
   "execution_count": null,
   "metadata": {},
   "outputs": [],
   "source": [
    "# pearson's regression\n",
    "def attri_cor(label_list=df.columns[6:-1]):\n",
    "    y=df['Cluster']\n",
    "    for i in label_list:\n",
    "        x=df[i]\n",
    "        print(f'{i} vs. Cluster')\n",
    "        print(x.corr(y))\n",
    "        print('-----------')\n",
    "       "
   ]
  },
  {
   "cell_type": "code",
   "execution_count": null,
   "metadata": {
    "scrolled": false
   },
   "outputs": [],
   "source": [
    "attri_cor()"
   ]
  },
  {
   "cell_type": "code",
   "execution_count": null,
   "metadata": {},
   "outputs": [],
   "source": [
    "attr_corr= df.iloc[:,6:].corr()\n",
    "attr_corr\n",
    "    "
   ]
  },
  {
   "cell_type": "code",
   "execution_count": null,
   "metadata": {},
   "outputs": [],
   "source": [
    "r=[]\n",
    "c=[]\n",
    "for i in range(attr_corr.shape[0]):\n",
    "    for j in range(attr_corr.shape[1]):\n",
    "        if attr_corr.iloc[i,j]!=1 and abs(attr_corr.iloc[i,j])>0.5:\n",
    "            r.append(attr_corr.index[i])\n",
    "            c.append(attr_corr.columns[j])\n",
    "r,c\n",
    "\n",
    "rc=[]\n",
    "for rr,cc in zip(r,c):\n",
    "    rc.append([rr,cc])\n",
    "for i in rc[:int(len(rc)/2)]:\n",
    "    print(f'{i} has abs(corr) > 0.5')"
   ]
  },
  {
   "cell_type": "code",
   "execution_count": null,
   "metadata": {},
   "outputs": [],
   "source": [
    "# modified by https://seaborn.pydata.org/examples/many_pairwise_correlations.html\n",
    "# Generate a mask for the upper triangle\n",
    "mask = np.triu(np.ones_like(attr_corr, dtype=bool))\n",
    "\n",
    "# Set up the matplotlib figure\n",
    "f, ax = plt.subplots(figsize=(11, 9))\n",
    "\n",
    "# Generate a custom diverging colormap\n",
    "cmap = sns.diverging_palette(230, 20, as_cmap=True)\n",
    "\n",
    "# Draw the heatmap with the mask and correct aspect ratio\n",
    "sns.heatmap(attr_corr, mask=mask, cmap=cmap, vmax=.3, center=0,\n",
    "            square=True, linewidths=.5, cbar_kws={\"shrink\": .5})"
   ]
  },
  {
   "cell_type": "code",
   "execution_count": null,
   "metadata": {},
   "outputs": [],
   "source": [
    "#cluster has better corr with these\n",
    "cluster=[['Cluster','danceability'],['Cluster','speechiness'],['Cluster','tempo']]\n",
    "\n",
    "#t test?\n",
    "#chi square test?"
   ]
  }
 ],
 "metadata": {
  "kernelspec": {
   "display_name": "Python 3",
   "language": "python",
   "name": "python3"
  },
  "language_info": {
   "codemirror_mode": {
    "name": "ipython",
    "version": 3
   },
   "file_extension": ".py",
   "mimetype": "text/x-python",
   "name": "python",
   "nbconvert_exporter": "python",
   "pygments_lexer": "ipython3",
   "version": "3.6.12"
  }
 },
 "nbformat": 4,
 "nbformat_minor": 4
}
