{
 "cells": [
  {
   "cell_type": "code",
   "execution_count": 1,
   "metadata": {},
   "outputs": [],
   "source": [
    "import numpy as np\n",
    "import matplotlib.pyplot as plt\n",
    "import pandas as pd\n",
    "# import seaborn as sns\n",
    "from sklearn.cluster import KMeans"
   ]
  },
  {
   "cell_type": "markdown",
   "metadata": {},
   "source": [
    "## Extract"
   ]
  },
  {
   "cell_type": "code",
   "execution_count": 2,
   "metadata": {},
   "outputs": [],
   "source": [
    "#Import Dataset\n",
    "df=pd.read_csv('../data/external/billboard_hits.csv')"
   ]
  },
  {
   "cell_type": "markdown",
   "metadata": {},
   "source": [
    "## Transform"
   ]
  },
  {
   "cell_type": "code",
   "execution_count": 3,
   "metadata": {},
   "outputs": [
    {
     "data": {
      "text/plain": [
       "Index(['Unnamed: 0', 'Track', 'Artist', 'Placement', 'Year', 'Month', 'Day',\n",
       "       'danceability', 'energy', 'key', 'loudness', 'speechiness',\n",
       "       'acousticness', 'liveness', 'valence', 'tempo'],\n",
       "      dtype='object')"
      ]
     },
     "execution_count": 3,
     "metadata": {},
     "output_type": "execute_result"
    }
   ],
   "source": [
    "#show data columns\n",
    "df.columns"
   ]
  },
  {
   "cell_type": "code",
   "execution_count": 4,
   "metadata": {},
   "outputs": [
    {
     "data": {
      "text/html": [
       "<div>\n",
       "<style scoped>\n",
       "    .dataframe tbody tr th:only-of-type {\n",
       "        vertical-align: middle;\n",
       "    }\n",
       "\n",
       "    .dataframe tbody tr th {\n",
       "        vertical-align: top;\n",
       "    }\n",
       "\n",
       "    .dataframe thead th {\n",
       "        text-align: right;\n",
       "    }\n",
       "</style>\n",
       "<table border=\"1\" class=\"dataframe\">\n",
       "  <thead>\n",
       "    <tr style=\"text-align: right;\">\n",
       "      <th></th>\n",
       "      <th>danceability</th>\n",
       "      <th>energy</th>\n",
       "      <th>key</th>\n",
       "      <th>loudness</th>\n",
       "      <th>speechiness</th>\n",
       "      <th>acousticness</th>\n",
       "      <th>liveness</th>\n",
       "      <th>valence</th>\n",
       "      <th>tempo</th>\n",
       "    </tr>\n",
       "  </thead>\n",
       "  <tbody>\n",
       "    <tr>\n",
       "      <th>0</th>\n",
       "      <td>0.654</td>\n",
       "      <td>0.452</td>\n",
       "      <td>2.0</td>\n",
       "      <td>-9.709</td>\n",
       "      <td>0.0300</td>\n",
       "      <td>0.8350</td>\n",
       "      <td>0.1600</td>\n",
       "      <td>0.691</td>\n",
       "      <td>106.662</td>\n",
       "    </tr>\n",
       "    <tr>\n",
       "      <th>1</th>\n",
       "      <td>0.654</td>\n",
       "      <td>0.452</td>\n",
       "      <td>2.0</td>\n",
       "      <td>-9.709</td>\n",
       "      <td>0.0300</td>\n",
       "      <td>0.8350</td>\n",
       "      <td>0.1600</td>\n",
       "      <td>0.691</td>\n",
       "      <td>106.662</td>\n",
       "    </tr>\n",
       "    <tr>\n",
       "      <th>2</th>\n",
       "      <td>0.654</td>\n",
       "      <td>0.452</td>\n",
       "      <td>2.0</td>\n",
       "      <td>-9.709</td>\n",
       "      <td>0.0300</td>\n",
       "      <td>0.8350</td>\n",
       "      <td>0.1600</td>\n",
       "      <td>0.691</td>\n",
       "      <td>106.662</td>\n",
       "    </tr>\n",
       "    <tr>\n",
       "      <th>3</th>\n",
       "      <td>0.654</td>\n",
       "      <td>0.452</td>\n",
       "      <td>2.0</td>\n",
       "      <td>-9.709</td>\n",
       "      <td>0.0300</td>\n",
       "      <td>0.8350</td>\n",
       "      <td>0.1600</td>\n",
       "      <td>0.691</td>\n",
       "      <td>106.662</td>\n",
       "    </tr>\n",
       "    <tr>\n",
       "      <th>4</th>\n",
       "      <td>0.510</td>\n",
       "      <td>0.349</td>\n",
       "      <td>5.0</td>\n",
       "      <td>-8.677</td>\n",
       "      <td>0.0264</td>\n",
       "      <td>0.7620</td>\n",
       "      <td>0.1300</td>\n",
       "      <td>0.586</td>\n",
       "      <td>94.267</td>\n",
       "    </tr>\n",
       "    <tr>\n",
       "      <th>...</th>\n",
       "      <td>...</td>\n",
       "      <td>...</td>\n",
       "      <td>...</td>\n",
       "      <td>...</td>\n",
       "      <td>...</td>\n",
       "      <td>...</td>\n",
       "      <td>...</td>\n",
       "      <td>...</td>\n",
       "      <td>...</td>\n",
       "    </tr>\n",
       "    <tr>\n",
       "      <th>69900</th>\n",
       "      <td>0.721</td>\n",
       "      <td>0.716</td>\n",
       "      <td>10.0</td>\n",
       "      <td>-7.037</td>\n",
       "      <td>0.0657</td>\n",
       "      <td>0.0334</td>\n",
       "      <td>0.2370</td>\n",
       "      <td>0.667</td>\n",
       "      <td>104.994</td>\n",
       "    </tr>\n",
       "    <tr>\n",
       "      <th>69901</th>\n",
       "      <td>0.511</td>\n",
       "      <td>0.719</td>\n",
       "      <td>5.0</td>\n",
       "      <td>-6.261</td>\n",
       "      <td>0.1170</td>\n",
       "      <td>0.1980</td>\n",
       "      <td>0.5450</td>\n",
       "      <td>0.610</td>\n",
       "      <td>77.481</td>\n",
       "    </tr>\n",
       "    <tr>\n",
       "      <th>69902</th>\n",
       "      <td>0.753</td>\n",
       "      <td>0.597</td>\n",
       "      <td>8.0</td>\n",
       "      <td>-8.469</td>\n",
       "      <td>0.2920</td>\n",
       "      <td>0.0477</td>\n",
       "      <td>0.1970</td>\n",
       "      <td>0.616</td>\n",
       "      <td>76.997</td>\n",
       "    </tr>\n",
       "    <tr>\n",
       "      <th>69903</th>\n",
       "      <td>0.693</td>\n",
       "      <td>0.652</td>\n",
       "      <td>5.0</td>\n",
       "      <td>-8.766</td>\n",
       "      <td>0.2990</td>\n",
       "      <td>0.2500</td>\n",
       "      <td>0.0294</td>\n",
       "      <td>0.770</td>\n",
       "      <td>87.986</td>\n",
       "    </tr>\n",
       "    <tr>\n",
       "      <th>69904</th>\n",
       "      <td>0.568</td>\n",
       "      <td>0.764</td>\n",
       "      <td>5.0</td>\n",
       "      <td>-3.465</td>\n",
       "      <td>0.2550</td>\n",
       "      <td>0.2170</td>\n",
       "      <td>0.0931</td>\n",
       "      <td>0.625</td>\n",
       "      <td>179.985</td>\n",
       "    </tr>\n",
       "  </tbody>\n",
       "</table>\n",
       "<p>69905 rows × 9 columns</p>\n",
       "</div>"
      ],
      "text/plain": [
       "       danceability  energy   key  loudness  speechiness  acousticness  \\\n",
       "0             0.654   0.452   2.0    -9.709       0.0300        0.8350   \n",
       "1             0.654   0.452   2.0    -9.709       0.0300        0.8350   \n",
       "2             0.654   0.452   2.0    -9.709       0.0300        0.8350   \n",
       "3             0.654   0.452   2.0    -9.709       0.0300        0.8350   \n",
       "4             0.510   0.349   5.0    -8.677       0.0264        0.7620   \n",
       "...             ...     ...   ...       ...          ...           ...   \n",
       "69900         0.721   0.716  10.0    -7.037       0.0657        0.0334   \n",
       "69901         0.511   0.719   5.0    -6.261       0.1170        0.1980   \n",
       "69902         0.753   0.597   8.0    -8.469       0.2920        0.0477   \n",
       "69903         0.693   0.652   5.0    -8.766       0.2990        0.2500   \n",
       "69904         0.568   0.764   5.0    -3.465       0.2550        0.2170   \n",
       "\n",
       "       liveness  valence    tempo  \n",
       "0        0.1600    0.691  106.662  \n",
       "1        0.1600    0.691  106.662  \n",
       "2        0.1600    0.691  106.662  \n",
       "3        0.1600    0.691  106.662  \n",
       "4        0.1300    0.586   94.267  \n",
       "...         ...      ...      ...  \n",
       "69900    0.2370    0.667  104.994  \n",
       "69901    0.5450    0.610   77.481  \n",
       "69902    0.1970    0.616   76.997  \n",
       "69903    0.0294    0.770   87.986  \n",
       "69904    0.0931    0.625  179.985  \n",
       "\n",
       "[69905 rows x 9 columns]"
      ]
     },
     "execution_count": 4,
     "metadata": {},
     "output_type": "execute_result"
    }
   ],
   "source": [
    "#drop Unnamed column\n",
    "# df = df.drop(['Unnamed: 0'],axis=1)\n",
    "# df_clean = df.sort_values('Placement').drop_duplicates('Track', keep='last')\n",
    "# df['Decade'] = (10 * (df['Year'] // 10)).astype(str) + 's'\n",
    "attribute_df = df[['danceability', 'energy', 'key', 'loudness', \"speechiness\", 'acousticness', 'liveness', 'valence', 'tempo']]\n",
    "attribute_df"
   ]
  },
  {
   "cell_type": "markdown",
   "metadata": {},
   "source": [
    "## Machine Learning"
   ]
  },
  {
   "cell_type": "code",
   "execution_count": 5,
   "metadata": {},
   "outputs": [],
   "source": [
    "# X = sixty_df_clean[['energy']]\n",
    "# y = sixty_df_clean[['loudness']]"
   ]
  },
  {
   "cell_type": "code",
   "execution_count": 6,
   "metadata": {},
   "outputs": [],
   "source": [
    "lists = []\n",
    "K = range(1,10)\n",
    "for k in K:\n",
    "    kmeanModel = KMeans(n_clusters=k)\n",
    "    kmeanModel.fit(attribute_df)\n",
    "    lists.append(kmeanModel.inertia_)"
   ]
  },
  {
   "cell_type": "code",
   "execution_count": 7,
   "metadata": {
    "scrolled": true
   },
   "outputs": [
    {
     "data": {
      "image/png": "[encoded data removed]",
      "text/plain": [
       "<Figure size 1152x576 with 1 Axes>"
      ]
     },
     "metadata": {
      "needs_background": "light"
     },
     "output_type": "display_data"
    }
   ],
   "source": [
    "plt.figure(figsize=(16,8))\n",
    "plt.plot(K, lists, 'bx-')\n",
    "plt.xlabel('k')\n",
    "plt.ylabel('Distortion')\n",
    "plt.title('The Elbow Method showing the optimal k')\n",
    "plt.show()"
   ]
  },
  {
   "cell_type": "markdown",
   "metadata": {},
   "source": [
    "## Without Scaling"
   ]
  },
  {
   "cell_type": "code",
   "execution_count": 12,
   "metadata": {},
   "outputs": [
    {
     "name": "stderr",
     "output_type": "stream",
     "text": [
      "/Users/Kelsey/opt/anaconda3/envs/PythonML/lib/python3.6/site-packages/ipykernel_launcher.py:11: SettingWithCopyWarning: \n",
      "A value is trying to be set on a copy of a slice from a DataFrame.\n",
      "Try using .loc[row_indexer,col_indexer] = value instead\n",
      "\n",
      "See the caveats in the documentation: https://pandas.pydata.org/pandas-docs/stable/user_guide/indexing.html#returning-a-view-versus-a-copy\n",
      "  # This is added back by InteractiveShellApp.init_path()\n"
     ]
    }
   ],
   "source": [
    "# Create a kmeans model\n",
    "from sklearn.cluster import KMeans\n",
    "kmeans = KMeans(n_clusters=3)\n",
    "\n",
    "# Fit the model to the data\n",
    "kmeans.fit(attribute_df)\n",
    "\n",
    "# Use the data to predict the clusters\n",
    "# save the predictions as `predicted_clusters`\n",
    "predicted_clusters = kmeans.predict(attribute_df)\n",
    "attribute_df[\"Cluster\"] = predicted_clusters"
   ]
  },
  {
   "cell_type": "markdown",
   "metadata": {},
   "source": [
    "## Cluster Quality"
   ]
  },
  {
   "cell_type": "code",
   "execution_count": 9,
   "metadata": {},
   "outputs": [
    {
     "name": "stdout",
     "output_type": "stream",
     "text": [
      "Silhouetter Score: 0.510\n"
     ]
    }
   ],
   "source": [
    "from sklearn.metrics import silhouette_samples, silhouette_score\n",
    "# Calculate Silhoutte Score\n",
    "#\n",
    "score = silhouette_score(attribute_df, kmeans.labels_)\n",
    "#\n",
    "# Print the score\n",
    "#\n",
    "print('Silhouetter Score: %.3f' % score)"
   ]
  },
  {
   "cell_type": "markdown",
   "metadata": {},
   "source": [
    "The Silouetter Score is between -1 to 1. If the value is closer to 1, the clusters are more dense and\n",
    "and separated from other clusters."
   ]
  },
  {
   "cell_type": "code",
   "execution_count": 10,
   "metadata": {},
   "outputs": [
    {
     "name": "stdout",
     "output_type": "stream",
     "text": [
      "Inertia: 10502556.028\n"
     ]
    }
   ],
   "source": [
    "inertia = kmeans.inertia_\n",
    "print('Inertia: %.3f' % inertia)"
   ]
  },
  {
   "cell_type": "markdown",
   "metadata": {},
   "source": [
    "The smaller the inertia the denser the cluster"
   ]
  },
  {
   "cell_type": "code",
   "execution_count": 13,
   "metadata": {},
   "outputs": [
    {
     "data": {
      "image/png": "[encoded data removed]",
      "text/plain": [
       "<Figure size 432x288 with 1 Axes>"
      ]
     },
     "metadata": {
      "needs_background": "light"
     },
     "output_type": "display_data"
    }
   ],
   "source": [
    "# Plot the clusters\n",
    "plt.scatter(attribute_df['Cluster'], attribute_df['tempo'], c=attribute_df['Cluster'], s=40, cmap='viridis')\n",
    "plt.show()"
   ]
  },
  {
   "cell_type": "markdown",
   "metadata": {},
   "source": [
    "## With Scaling"
   ]
  },
  {
   "cell_type": "code",
   "execution_count": 14,
   "metadata": {},
   "outputs": [],
   "source": [
    "from sklearn import preprocessing\n",
    "from sklearn.preprocessing import MinMaxScaler\n",
    "scaler = MinMaxScaler()\n",
    "\n",
    "X_scaled = scaler.fit_transform(attribute_df)\n",
    "X_scaled_df = pd.DataFrame(scaler.fit_transform(attribute_df), columns=attribute_df.columns, index=attribute_df.index)\n"
   ]
  },
  {
   "cell_type": "code",
   "execution_count": 15,
   "metadata": {},
   "outputs": [],
   "source": [
    "# Create a kmeans model\n",
    "from sklearn.cluster import KMeans\n",
    "kmeans = KMeans(n_clusters=3)\n",
    "\n",
    "# Fit the model to the data\n",
    "kmeans.fit(X_scaled)\n",
    "\n",
    "# Use the data to predict the clusters\n",
    "# save the predictions as `predicted_clusters`\n",
    "predicted_clusters = kmeans.predict(X_scaled)\n",
    "X_scaled_df[\"Cluster\"] = predicted_clusters"
   ]
  },
  {
   "cell_type": "markdown",
   "metadata": {},
   "source": [
    "## Cluster Quality"
   ]
  },
  {
   "cell_type": "code",
   "execution_count": 16,
   "metadata": {},
   "outputs": [
    {
     "name": "stdout",
     "output_type": "stream",
     "text": [
      "Silhouetter Score: 0.192\n"
     ]
    }
   ],
   "source": [
    "from sklearn.metrics import silhouette_samples, silhouette_score\n",
    "# Calculate Silhoutte Score\n",
    "#\n",
    "score = silhouette_score(X_scaled, kmeans.labels_)\n",
    "#\n",
    "# Print the score\n",
    "#\n",
    "print('Silhouetter Score: %.3f' % score)\n"
   ]
  },
  {
   "cell_type": "markdown",
   "metadata": {},
   "source": [
    "The Silouetter Score is between -1 to 1. If the value is closer to 1, the clusters are more dense and\n",
    "and separated from other clusters."
   ]
  },
  {
   "cell_type": "code",
   "execution_count": 17,
   "metadata": {},
   "outputs": [
    {
     "name": "stdout",
     "output_type": "stream",
     "text": [
      "Inertia: 22361.796\n"
     ]
    }
   ],
   "source": [
    "inertia = kmeans.inertia_\n",
    "print('Inertia: %.3f' % inertia)"
   ]
  },
  {
   "cell_type": "markdown",
   "metadata": {},
   "source": [
    "The smaller the inertia the denser the cluster"
   ]
  },
  {
   "cell_type": "code",
   "execution_count": 18,
   "metadata": {},
   "outputs": [
    {
     "data": {
      "image/png": "[encoded data removed]",
      "text/plain": [
       "<Figure size 432x288 with 1 Axes>"
      ]
     },
     "metadata": {
      "needs_background": "light"
     },
     "output_type": "display_data"
    }
   ],
   "source": [
    "# Plot the clusters\n",
    "plt.scatter(X_scaled_df['Cluster'], X_scaled_df['tempo'], c=X_scaled_df['Cluster'], s=40, cmap='viridis')\n",
    "plt.show()"
   ]
  },
  {
   "cell_type": "markdown",
   "metadata": {},
   "source": [
    "## Full Dataframe"
   ]
  },
  {
   "cell_type": "code",
   "execution_count": 40,
   "metadata": {},
   "outputs": [],
   "source": [
    "df[\"Cluster\"] = predicted_clusters\n",
    "X_scaled_df[\"Placement\"] = df[\"Placement\"]"
   ]
  },
  {
   "cell_type": "markdown",
   "metadata": {},
   "source": [
    "## Linear Regression"
   ]
  },
  {
   "cell_type": "code",
   "execution_count": null,
   "metadata": {},
   "outputs": [],
   "source": [
    "# Assign the data to X and y\n",
    "\n",
    "cluster_1_df = df[(attribute_df['Cluster'] == 1)]\n",
    "\n",
    "y = cluster_1_df[['tempo']]\n",
    "X = cluster_1_df[['Year']]\n",
    "\n",
    "plt.scatter(X, y)"
   ]
  },
  {
   "cell_type": "markdown",
   "metadata": {},
   "source": [
    "## Multi Linear Regression"
   ]
  },
  {
   "cell_type": "code",
   "execution_count": null,
   "metadata": {},
   "outputs": [],
   "source": [
    "X = cluster_1_df[['Placement']]\n",
    "y = cluster_1_df[['tempo']]\n",
    "z = cluster_1_df[['Cluster']]\n",
    "\n",
    "from mpl_toolkits.mplot3d import Axes3D\n",
    "fig = plt.figure(1, figsize=(5, 5))\n",
    "axes = Axes3D(fig, elev=20, azim=45)\n",
    "axes.scatter(X, y, z, c=z, cmap=plt.cm.get_cmap(\"Spectral\"))\n",
    "plt.show()"
   ]
  },
  {
   "cell_type": "markdown",
   "metadata": {},
   "source": [
    "## Top Songs"
   ]
  },
  {
   "cell_type": "code",
   "execution_count": 41,
   "metadata": {},
   "outputs": [],
   "source": [
    "top_20 = X_scaled_df[X_scaled_df['Placement'].between(1, 20)]\n",
    "top_40 = df[df['Placement'].between(21, 40)]\n",
    "top_60 = df[df['Placement'].between(41, 60)]\n",
    "top_80 = df[df['Placement'].between(61, 80)]\n",
    "top_100 = df[df['Placement'].between(81, 100)]"
   ]
  },
  {
   "cell_type": "code",
   "execution_count": 42,
   "metadata": {},
   "outputs": [
    {
     "data": {
      "image/png": "[encoded data removed]",
      "text/plain": [
       "<Figure size 432x288 with 1 Axes>"
      ]
     },
     "metadata": {
      "needs_background": "light"
     },
     "output_type": "display_data"
    }
   ],
   "source": [
    "# Plot the clusters\n",
    "plt.scatter(top_20['Cluster'], top_20['tempo'], c=top_20['Cluster'], s=40, cmap='viridis')\n",
    "plt.show()"
   ]
  },
  {
   "cell_type": "code",
   "execution_count": 43,
   "metadata": {},
   "outputs": [
    {
     "data": {
      "image/png": "[encoded data removed]",
      "text/plain": [
       "<Figure size 432x288 with 1 Axes>"
      ]
     },
     "metadata": {
      "needs_background": "light"
     },
     "output_type": "display_data"
    }
   ],
   "source": [
    "# Plot the clusters\n",
    "plt.scatter(top_40['Cluster'], top_40['tempo'], c=top_40['Cluster'], s=40, cmap='viridis')\n",
    "plt.show()"
   ]
  },
  {
   "cell_type": "code",
   "execution_count": 44,
   "metadata": {},
   "outputs": [
    {
     "data": {
      "image/png": "[encoded data removed]",
      "text/plain": [
       "<Figure size 432x288 with 1 Axes>"
      ]
     },
     "metadata": {
      "needs_background": "light"
     },
     "output_type": "display_data"
    }
   ],
   "source": [
    "# Plot the clusters\n",
    "plt.scatter(top_60['Cluster'], top_60['tempo'], c=top_60['Cluster'], s=40, cmap='viridis')\n",
    "plt.show()"
   ]
  },
  {
   "cell_type": "code",
   "execution_count": 24,
   "metadata": {},
   "outputs": [
    {
     "data": {
      "image/png": "[encoded data removed]",
      "text/plain": [
       "<Figure size 432x288 with 1 Axes>"
      ]
     },
     "metadata": {
      "needs_background": "light"
     },
     "output_type": "display_data"
    }
   ],
   "source": [
    "# Plot the clusters\n",
    "plt.scatter(top_80['Cluster'], top_80['tempo'], c=top_80['Cluster'], s=40, cmap='viridis')\n",
    "plt.show()"
   ]
  },
  {
   "cell_type": "code",
   "execution_count": 25,
   "metadata": {},
   "outputs": [],
   "source": [
    "## Decades\n",
    "df['Decade'] = (10 * (df['Year'] // 10)).astype(str) + 's'"
   ]
  },
  {
   "cell_type": "code",
   "execution_count": 26,
   "metadata": {},
   "outputs": [],
   "source": [
    "# decades dataframe only take highest placement\n",
    "sixty_df = df[(df['Decade'] == '1960s')]\n",
    "seventy_df = df[(df['Decade'] == '1970s')]\n",
    "eighty_df = df[(df['Decade'] == '1980s')]\n",
    "ninety_df = df[(df['Decade'] == '1990s')]\n",
    "twoth_df = df[(df['Decade'] == '2000s')]\n",
    "twotn_df = df[(df['Decade'] == '2010s')]"
   ]
  },
  {
   "cell_type": "code",
   "execution_count": 27,
   "metadata": {},
   "outputs": [
    {
     "data": {
      "image/png": "[encoded data removed]",
      "text/plain": [
       "<Figure size 432x288 with 1 Axes>"
      ]
     },
     "metadata": {
      "needs_background": "light"
     },
     "output_type": "display_data"
    }
   ],
   "source": [
    "plt.scatter(sixty_df['Cluster'], sixty_df['loudness'], c=sixty_df['Cluster'], s=40, cmap='viridis')\n",
    "plt.show()"
   ]
  },
  {
   "cell_type": "code",
   "execution_count": 28,
   "metadata": {},
   "outputs": [
    {
     "data": {
      "image/png": "[encoded data removed]",
      "text/plain": [
       "<Figure size 432x288 with 1 Axes>"
      ]
     },
     "metadata": {
      "needs_background": "light"
     },
     "output_type": "display_data"
    }
   ],
   "source": [
    "plt.scatter(seventy_df['Cluster'], seventy_df['loudness'], c=seventy_df['Cluster'], s=40, cmap='viridis')\n",
    "plt.show()"
   ]
  },
  {
   "cell_type": "code",
   "execution_count": 29,
   "metadata": {},
   "outputs": [
    {
     "data": {
      "image/png": "[encoded data removed]",
      "text/plain": [
       "<Figure size 432x288 with 1 Axes>"
      ]
     },
     "metadata": {
      "needs_background": "light"
     },
     "output_type": "display_data"
    }
   ],
   "source": [
    "plt.scatter(eighty_df['Cluster'], eighty_df['loudness'], c=eighty_df['Cluster'], s=40, cmap='viridis')\n",
    "plt.show()"
   ]
  },
  {
   "cell_type": "code",
   "execution_count": 30,
   "metadata": {},
   "outputs": [
    {
     "data": {
      "image/png": "[encoded data removed]",
      "text/plain": [
       "<Figure size 432x288 with 1 Axes>"
      ]
     },
     "metadata": {
      "needs_background": "light"
     },
     "output_type": "display_data"
    }
   ],
   "source": [
    "plt.scatter(ninety_df['Cluster'], ninety_df['loudness'], c=ninety_df['Cluster'], s=40, cmap='viridis')\n",
    "plt.show()"
   ]
  },
  {
   "cell_type": "code",
   "execution_count": 31,
   "metadata": {},
   "outputs": [
    {
     "data": {
      "image/png": "[encoded data removed]",
      "text/plain": [
       "<Figure size 432x288 with 1 Axes>"
      ]
     },
     "metadata": {
      "needs_background": "light"
     },
     "output_type": "display_data"
    }
   ],
   "source": [
    "plt.scatter(twoth_df['Cluster'], twoth_df['loudness'], c=twoth_df['Cluster'], s=40, cmap='viridis')\n",
    "plt.show()"
   ]
  },
  {
   "cell_type": "code",
   "execution_count": 32,
   "metadata": {},
   "outputs": [
    {
     "data": {
      "image/png": "[encoded data removed]",
      "text/plain": [
       "<Figure size 432x288 with 1 Axes>"
      ]
     },
     "metadata": {
      "needs_background": "light"
     },
     "output_type": "display_data"
    }
   ],
   "source": [
    "plt.scatter(twotn_df['Cluster'], twotn_df['loudness'], c=twotn_df['Cluster'], s=40, cmap='viridis')\n",
    "plt.show()"
   ]
  },
  {
   "cell_type": "code",
   "execution_count": 33,
   "metadata": {},
   "outputs": [
    {
     "data": {
      "image/png": "[encoded data removed]",
      "text/plain": [
       "<Figure size 432x288 with 1 Axes>"
      ]
     },
     "metadata": {
      "needs_background": "light"
     },
     "output_type": "display_data"
    }
   ],
   "source": [
    "plt.scatter(sixty_df['Cluster'], sixty_df['speechiness'], c=sixty_df['Cluster'], s=40, cmap='viridis')\n",
    "plt.show()"
   ]
  },
  {
   "cell_type": "code",
   "execution_count": 34,
   "metadata": {},
   "outputs": [
    {
     "data": {
      "image/png": "[encoded data removed]",
      "text/plain": [
       "<Figure size 432x288 with 1 Axes>"
      ]
     },
     "metadata": {
      "needs_background": "light"
     },
     "output_type": "display_data"
    }
   ],
   "source": [
    "plt.scatter(seventy_df['Cluster'], seventy_df['speechiness'], c=seventy_df['Cluster'], s=40, cmap='viridis')\n",
    "plt.show()"
   ]
  },
  {
   "cell_type": "code",
   "execution_count": 35,
   "metadata": {},
   "outputs": [
    {
     "data": {
      "image/png": "[encoded data removed]",
      "text/plain": [
       "<Figure size 432x288 with 1 Axes>"
      ]
     },
     "metadata": {
      "needs_background": "light"
     },
     "output_type": "display_data"
    }
   ],
   "source": [
    "plt.scatter(eighty_df['Cluster'], eighty_df['speechiness'], c=eighty_df['Cluster'], s=40, cmap='viridis')\n",
    "plt.show()"
   ]
  },
  {
   "cell_type": "code",
   "execution_count": 36,
   "metadata": {},
   "outputs": [
    {
     "data": {
      "image/png": "[encoded data removed]",
      "text/plain": [
       "<Figure size 432x288 with 1 Axes>"
      ]
     },
     "metadata": {
      "needs_background": "light"
     },
     "output_type": "display_data"
    }
   ],
   "source": [
    "plt.scatter(ninety_df['Cluster'], ninety_df['speechiness'], c=ninety_df['Cluster'], s=40, cmap='viridis')\n",
    "plt.show()"
   ]
  },
  {
   "cell_type": "code",
   "execution_count": 37,
   "metadata": {},
   "outputs": [
    {
     "data": {
      "image/png": "[encoded data removed]",
      "text/plain": [
       "<Figure size 432x288 with 1 Axes>"
      ]
     },
     "metadata": {
      "needs_background": "light"
     },
     "output_type": "display_data"
    }
   ],
   "source": [
    "plt.scatter(twoth_df['Cluster'], twoth_df['speechiness'], c=twoth_df['Cluster'], s=40, cmap='viridis')\n",
    "plt.show()"
   ]
  },
  {
   "cell_type": "code",
   "execution_count": 38,
   "metadata": {},
   "outputs": [
    {
     "data": {
      "image/png": "[encoded data removed]",
      "text/plain": [
       "<Figure size 432x288 with 1 Axes>"
      ]
     },
     "metadata": {
      "needs_background": "light"
     },
     "output_type": "display_data"
    }
   ],
   "source": [
    "plt.scatter(twotn_df['Cluster'], twotn_df['speechiness'], c=twotn_df['Cluster'], s=40, cmap='viridis')\n",
    "plt.show()"
   ]
  },
  {
   "cell_type": "code",
   "execution_count": null,
   "metadata": {},
   "outputs": [],
   "source": []
  }
 ],
 "metadata": {
  "kernelspec": {
   "display_name": "Python 3",
   "language": "python",
   "name": "python3"
  },
  "language_info": {
   "codemirror_mode": {
    "name": "ipython",
    "version": 3
   },
   "file_extension": ".py",
   "mimetype": "text/x-python",
   "name": "python",
   "nbconvert_exporter": "python",
   "pygments_lexer": "ipython3",
   "version": "3.6.10"
  }
 },
 "nbformat": 4,
 "nbformat_minor": 4
}
