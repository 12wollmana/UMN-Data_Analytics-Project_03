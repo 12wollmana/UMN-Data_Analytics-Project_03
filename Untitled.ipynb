{
 "cells": [
  {
   "cell_type": "code",
   "execution_count": 4,
   "metadata": {},
   "outputs": [
    {
     "name": "stdout",
     "output_type": "stream",
     "text": [
      "   0  1  2  3  4\n",
      "0  7  4  7  8  4\n",
      "1  2  4  5  3  7\n",
      "2  9  6  6  8  1\n",
      "3  4  6  1  6  6\n",
      "4  7  8  5  8  6\n",
      "5  6  5  2  7  2\n",
      "6  6  9  9  8  2\n"
     ]
    }
   ],
   "source": [
    "\n",
    "import pandas as pd\n",
    "import numpy as np\n",
    "\n",
    "ser = pd.Series(np.random.randint(1, 10, 35))\n",
    "df = pd.DataFrame(ser.values.reshape(7,5))\n",
    "print(df)"
   ]
  },
  {
   "cell_type": "code",
   "execution_count": 7,
   "metadata": {},
   "outputs": [
    {
     "name": "stdout",
     "output_type": "stream",
     "text": [
      "動物\n",
      "小狗小白\n"
     ]
    }
   ],
   "source": [
    "class Animal():\n",
    "    def __init__(self, name): self.name = name\n",
    "class Dog(Animal):\n",
    "    def __init__(self, name):\n",
    "        super().__init__('小狗'+name) \n",
    "    \n",
    "    \n",
    "a = Animal('動物')\n",
    "   \n",
    "d = Dog('小白') \n",
    "\n",
    "print(a.name) \n",
    "print(d.name)\n"
   ]
  },
  {
   "cell_type": "code",
   "execution_count": 8,
   "metadata": {},
   "outputs": [
    {
     "name": "stdout",
     "output_type": "stream",
     "text": [
      "0.123\n"
     ]
    }
   ],
   "source": [
    "a=0.12314\n",
    "print('%.3f'%a)"
   ]
  },
  {
   "cell_type": "code",
   "execution_count": null,
   "metadata": {},
   "outputs": [],
   "source": []
  }
 ],
 "metadata": {
  "kernelspec": {
   "display_name": "Python 3",
   "language": "python",
   "name": "python3"
  },
  "language_info": {
   "codemirror_mode": {
    "name": "ipython",
    "version": 3
   },
   "file_extension": ".py",
   "mimetype": "text/x-python",
   "name": "python",
   "nbconvert_exporter": "python",
   "pygments_lexer": "ipython3",
   "version": "3.7.4"
  }
 },
 "nbformat": 4,
 "nbformat_minor": 2
}
