{
 "cells": [
  {
   "cell_type": "markdown",
   "metadata": {},
   "source": [
    "# Decades\n",
    "This notebook is to plot our cluster data created in the Training-Model Notebook per decade."
   ]
  },
  {
   "cell_type": "markdown",
   "metadata": {},
   "source": [
    "## Setup\n",
    "First, the notebook will setup dependencies and import the data to be used."
   ]
  },
  {
   "cell_type": "code",
   "execution_count": null,
   "metadata": {},
   "outputs": [],
   "source": [
    "import pandas as pd\n",
    "import matplotlib.pyplot as plt\n",
    "import library as lib\n",
    "import seaborn as sns"
   ]
  },
  {
   "cell_type": "code",
   "execution_count": null,
   "metadata": {},
   "outputs": [],
   "source": [
    "image_filepath = \"../images/plots/decades\""
   ]
  },
  {
   "cell_type": "code",
   "execution_count": null,
   "metadata": {
    "scrolled": true
   },
   "outputs": [],
   "source": [
    "df = lib.import_music_df_with_model()\n",
    "df.head()"
   ]
  },
  {
   "cell_type": "code",
   "execution_count": null,
   "metadata": {},
   "outputs": [],
   "source": [
    "# Add Decade Column\n",
    "df['Decade'] = (10 * (df['Year'] // 10)).astype(str) + 's'\n",
    "df.head()"
   ]
  },
  {
   "cell_type": "code",
   "execution_count": null,
   "metadata": {},
   "outputs": [],
   "source": [
    "from collections import Counter\n",
    "Counter(df[\"Cluster\"])"
   ]
  },
  {
   "cell_type": "markdown",
   "metadata": {},
   "source": [
    "## Plots\n",
    "After cleaning the data, now the notebook will conduct a series of plots on the data to see what trends there are. For this, the notebook will be looking at the average for each of the musical attributes."
   ]
  },
  {
   "cell_type": "code",
   "execution_count": null,
   "metadata": {},
   "outputs": [],
   "source": [
    "# Group by Decade and find the mean for values.\n",
    "decade_gb = df.groupby(by=[\"Decade\", \"Cluster\"])\n",
    "decade_mean_df = decade_gb.median()\n",
    "decade_mean_df"
   ]
  },
  {
   "cell_type": "code",
   "execution_count": null,
   "metadata": {},
   "outputs": [],
   "source": [
    "# Define data columns\n",
    "columns = [\n",
    "    \"Placement\", \n",
    "    \"danceability\",\n",
    "    \"energy\",\n",
    "    \"key\",\n",
    "    \"loudness\",\n",
    "    \"speechiness\",\n",
    "    \"acousticness\",\n",
    "    \"liveness\",\n",
    "    \"valence\",\n",
    "    \"tempo\"\n",
    "]\n",
    "\n",
    "# Define Legend Labels\n",
    "legend_labels = [\"Cluster 0\", \"Cluster 1\", \"Cluster 2\"]"
   ]
  },
  {
   "cell_type": "markdown",
   "metadata": {},
   "source": [
    "### Bar Charts"
   ]
  },
  {
   "cell_type": "code",
   "execution_count": null,
   "metadata": {},
   "outputs": [],
   "source": [
    "# Create Bar Charts\n",
    "def decade_bar_chart(df, column, legend_labels = [\"Cluster 0\", \"Cluster 1\", \"Cluster 2\"]):\n",
    "    title = f\"Average {column.capitalize()} through the Decades\"\n",
    "    axis = df[[column]].unstack('Cluster').plot(kind=\"bar\", title=title)\n",
    "    axis.set_ylabel(column.capitalize())\n",
    "    axis.legend(legend_labels, loc='center right', bbox_to_anchor=(1.275, .5))\n",
    "    \n",
    "decade_bar_chart(decade_mean_df, \"danceability\", legend_labels)\n",
    "sns.set_theme()\n",
    "plt.show()"
   ]
  },
  {
   "cell_type": "code",
   "execution_count": null,
   "metadata": {
    "scrolled": true
   },
   "outputs": [],
   "source": [
    "for column in columns:\n",
    "    decade_bar_chart(decade_mean_df, column, legend_labels)\n",
    "    plt.savefig(f\"{image_filepath}/bar/{column.lower()}.png\", bbox_inches='tight')\n",
    "    sns.set_theme()\n",
    "    plt.show()"
   ]
  },
  {
   "cell_type": "markdown",
   "metadata": {},
   "source": [
    "### Line Charts"
   ]
  },
  {
   "cell_type": "code",
   "execution_count": null,
   "metadata": {},
   "outputs": [],
   "source": [
    "def decade_line_chart(df, column, legend_labels = [\"Cluster 0\", \"Cluster 1\", \"Cluster 2\"]):\n",
    "    title = f\"Average {column.capitalize()} through the Decades\"\n",
    "    data = df\n",
    "    if(column):\n",
    "        data = df[[column]]\n",
    "    axis = data.unstack('Cluster').plot(kind=\"line\", title=title)\n",
    "    axis.set_ylabel(column.capitalize())\n",
    "    axis.legend(legend_labels, loc='center right', bbox_to_anchor=(1.275, .5))\n",
    "    \n",
    "decade_line_chart(decade_mean_df, \"danceability\", legend_labels)\n",
    "sns.set_theme()\n",
    "plt.show()"
   ]
  },
  {
   "cell_type": "code",
   "execution_count": null,
   "metadata": {
    "scrolled": false
   },
   "outputs": [],
   "source": [
    "for column in columns:\n",
    "    decade_line_chart(decade_mean_df, column, legend_labels)\n",
    "    plt.savefig(f\"{image_filepath}/line/{column.lower()}.png\", bbox_inches='tight')\n",
    "    sns.set_theme()\n",
    "    plt.show()"
   ]
  },
  {
   "cell_type": "markdown",
   "metadata": {},
   "source": [
    "### Count of Hits\n",
    "Let's look at the number of hits per cluster per decade."
   ]
  },
  {
   "cell_type": "code",
   "execution_count": null,
   "metadata": {},
   "outputs": [],
   "source": [
    "hits_counts_df = decade_gb.count()\n",
    "hits_counts_df = hits_counts_df[\"Track\"]"
   ]
  },
  {
   "cell_type": "code",
   "execution_count": null,
   "metadata": {},
   "outputs": [],
   "source": [
    "axis = hits_counts_df.unstack('Cluster').plot(kind=\"line\", title = \"Number of Hits throughout the Decades\")\n",
    "axis.set_ylabel(\"Number of Hits\")\n",
    "axis.legend(legend_labels, loc='center right', bbox_to_anchor=(1.275, .5))\n",
    "plt.savefig(f\"{image_filepath}/line/number_of_hits.png\", bbox_inches='tight')\n",
    "sns.set_theme()\n",
    "plt.show()"
   ]
  },
  {
   "cell_type": "markdown",
   "metadata": {},
   "source": [
    "### Count of Number 1 Hits\n",
    "One additional aspect to look at is to see how many clusters hit the number 1 position within each decade."
   ]
  },
  {
   "cell_type": "code",
   "execution_count": null,
   "metadata": {},
   "outputs": [],
   "source": [
    "number_one_df = df[df[\"Placement\"] ==1]\n",
    "number_one_df.head()"
   ]
  },
  {
   "cell_type": "code",
   "execution_count": null,
   "metadata": {},
   "outputs": [],
   "source": [
    "number_one_gb = number_one_df.groupby([\"Decade\", \"Cluster\"])\n",
    "number_one_gb.head()"
   ]
  },
  {
   "cell_type": "code",
   "execution_count": null,
   "metadata": {},
   "outputs": [],
   "source": [
    "number_one_count_df = number_one_gb[\"Track\"].count()\n",
    "\n",
    "axis = number_one_count_df.unstack('Cluster').plot(kind=\"line\", title = \"Number of #1 Hits throughout the Decades\")\n",
    "axis.set_ylabel(\"Number of #1 Hits\")\n",
    "axis.legend(legend_labels, loc='center right', bbox_to_anchor=(1.275, .5))\n",
    "plt.savefig(f\"{image_filepath}/line/number_ones.png\", bbox_inches='tight')\n",
    "sns.set_theme()\n",
    "plt.show()"
   ]
  }
 ],
 "metadata": {
  "kernelspec": {
   "display_name": "Python 3",
   "language": "python",
   "name": "python3"
  },
  "language_info": {
   "codemirror_mode": {
    "name": "ipython",
    "version": 3
   },
   "file_extension": ".py",
   "mimetype": "text/x-python",
   "name": "python",
   "nbconvert_exporter": "python",
   "pygments_lexer": "ipython3",
   "version": "3.6.12"
  }
 },
 "nbformat": 4,
 "nbformat_minor": 4
}
